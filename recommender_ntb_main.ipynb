{
  "nbformat": 4,
  "nbformat_minor": 0,
  "metadata": {
    "colab": {
      "name": "recommender_ntb_main.ipynb",
      "provenance": [],
      "collapsed_sections": [],
      "toc_visible": true,
      "authorship_tag": "ABX9TyMY8rqPJXrZbgmLQ5ZSCYUM",
      "include_colab_link": true
    },
    "kernelspec": {
      "display_name": "Python 3",
      "name": "python3"
    },
    "language_info": {
      "name": "python"
    }
  },
  "cells": [
    {
      "cell_type": "markdown",
      "metadata": {
        "id": "view-in-github",
        "colab_type": "text"
      },
      "source": [
        "<a href=\"https://colab.research.google.com/github/murtagh97/book_recommender/blob/main/recommender_ntb_main.ipynb\" target=\"_parent\"><img src=\"https://colab.research.google.com/assets/colab-badge.svg\" alt=\"Open In Colab\"/></a>"
      ]
    },
    {
      "cell_type": "code",
      "metadata": {
        "colab": {
          "base_uri": "https://localhost:8080/",
          "height": 53
        },
        "id": "tSXRDoH3FLtx",
        "outputId": "c3439545-3adb-4be1-d674-45f1ee767f59"
      },
      "source": [
        "### set up the directories & mount google drive ###\n",
        "# change directories according to your drive #\n",
        "\n",
        "import os\n",
        "import re\n",
        "from google.colab import drive\n",
        "\n",
        "drive.mount('/content/drive', force_remount=True)\n",
        "\n",
        "path_to_project = ['drive','My Drive','ds_ml_task']\n",
        "path_root = os.path.join(*path_to_project)\n",
        "\n",
        "os.chdir(path_root)\n",
        "os.getcwd()"
      ],
      "execution_count": 2,
      "outputs": [
        {
          "output_type": "stream",
          "name": "stdout",
          "text": [
            "Mounted at /content/drive\n"
          ]
        },
        {
          "output_type": "execute_result",
          "data": {
            "application/vnd.google.colaboratory.intrinsic+json": {
              "type": "string"
            },
            "text/plain": [
              "'/content/drive/My Drive/ds_ml_task'"
            ]
          },
          "metadata": {},
          "execution_count": 2
        }
      ]
    },
    {
      "cell_type": "markdown",
      "metadata": {
        "id": "6yXvEk1zLwbv"
      },
      "source": [
        "# 1 Data Read"
      ]
    },
    {
      "cell_type": "code",
      "metadata": {
        "id": "UuPg7VuUOEqv"
      },
      "source": [
        "import pandas as pd\n",
        "import numpy as np\n",
        "\n",
        "import string"
      ],
      "execution_count": 3,
      "outputs": []
    },
    {
      "cell_type": "markdown",
      "metadata": {
        "id": "qMQdzYzdnr4U"
      },
      "source": [
        "Data avalilable [here](http://www2.informatik.uni-freiburg.de/~cziegler/BX/)."
      ]
    },
    {
      "cell_type": "code",
      "metadata": {
        "colab": {
          "base_uri": "https://localhost:8080/"
        },
        "id": "ncOGMi1hdXKl",
        "outputId": "b55a4002-74aa-4f84-c216-fa8df3b0fb15"
      },
      "source": [
        "### create path to the data according to your drive ###\n",
        "path_to_data = '/content/drive/My Drive/ds_ml_task/BX-CSV-Dump/'\n",
        "\n",
        "### read csv files ###\n",
        "ratings = pd.read_csv(path_to_data + 'BX-Book-Ratings.csv', delimiter=\";\", encoding=\"latin1\")\n",
        "books = pd.read_csv(path_to_data + 'BX-Books.csv', delimiter=\";\", encoding=\"latin1\", error_bad_lines=False)\n",
        "users = pd.read_csv(path_to_data + 'BX-Users.csv', delimiter=\";\", encoding=\"latin1\")"
      ],
      "execution_count": 4,
      "outputs": [
        {
          "output_type": "stream",
          "name": "stderr",
          "text": [
            "b'Skipping line 6452: expected 8 fields, saw 9\\nSkipping line 43667: expected 8 fields, saw 10\\nSkipping line 51751: expected 8 fields, saw 9\\n'\n",
            "b'Skipping line 92038: expected 8 fields, saw 9\\nSkipping line 104319: expected 8 fields, saw 9\\nSkipping line 121768: expected 8 fields, saw 9\\n'\n",
            "b'Skipping line 144058: expected 8 fields, saw 9\\nSkipping line 150789: expected 8 fields, saw 9\\nSkipping line 157128: expected 8 fields, saw 9\\nSkipping line 180189: expected 8 fields, saw 9\\nSkipping line 185738: expected 8 fields, saw 9\\n'\n",
            "b'Skipping line 209388: expected 8 fields, saw 9\\nSkipping line 220626: expected 8 fields, saw 9\\nSkipping line 227933: expected 8 fields, saw 11\\nSkipping line 228957: expected 8 fields, saw 10\\nSkipping line 245933: expected 8 fields, saw 9\\nSkipping line 251296: expected 8 fields, saw 9\\nSkipping line 259941: expected 8 fields, saw 9\\nSkipping line 261529: expected 8 fields, saw 9\\n'\n",
            "/usr/local/lib/python3.7/dist-packages/IPython/core/interactiveshell.py:2718: DtypeWarning: Columns (3) have mixed types.Specify dtype option on import or set low_memory=False.\n",
            "  interactivity=interactivity, compiler=compiler, result=result)\n"
          ]
        }
      ]
    },
    {
      "cell_type": "code",
      "metadata": {
        "colab": {
          "base_uri": "https://localhost:8080/",
          "height": 110
        },
        "id": "FOkyPCupE09t",
        "outputId": "f5fae9a8-de3a-4e33-d9f8-b039d582fc09"
      },
      "source": [
        "ratings.rename(\n",
        "    columns = {\n",
        "        'User-ID': 'user_id',\n",
        "        'ISBN': 'isbn',\n",
        "        'Book-Rating': 'book_rating'\n",
        "        }, \n",
        "    inplace=True\n",
        "    )\n",
        "ratings.head(2)"
      ],
      "execution_count": 5,
      "outputs": [
        {
          "output_type": "execute_result",
          "data": {
            "text/html": [
              "<div>\n",
              "<style scoped>\n",
              "    .dataframe tbody tr th:only-of-type {\n",
              "        vertical-align: middle;\n",
              "    }\n",
              "\n",
              "    .dataframe tbody tr th {\n",
              "        vertical-align: top;\n",
              "    }\n",
              "\n",
              "    .dataframe thead th {\n",
              "        text-align: right;\n",
              "    }\n",
              "</style>\n",
              "<table border=\"1\" class=\"dataframe\">\n",
              "  <thead>\n",
              "    <tr style=\"text-align: right;\">\n",
              "      <th></th>\n",
              "      <th>user_id</th>\n",
              "      <th>isbn</th>\n",
              "      <th>book_rating</th>\n",
              "    </tr>\n",
              "  </thead>\n",
              "  <tbody>\n",
              "    <tr>\n",
              "      <th>0</th>\n",
              "      <td>276725</td>\n",
              "      <td>034545104X</td>\n",
              "      <td>0</td>\n",
              "    </tr>\n",
              "    <tr>\n",
              "      <th>1</th>\n",
              "      <td>276726</td>\n",
              "      <td>0155061224</td>\n",
              "      <td>5</td>\n",
              "    </tr>\n",
              "  </tbody>\n",
              "</table>\n",
              "</div>"
            ],
            "text/plain": [
              "   user_id        isbn  book_rating\n",
              "0   276725  034545104X            0\n",
              "1   276726  0155061224            5"
            ]
          },
          "metadata": {},
          "execution_count": 5
        }
      ]
    },
    {
      "cell_type": "code",
      "metadata": {
        "id": "kIWmTaUWPr-i"
      },
      "source": [
        "#ratings.to_csv( 'rating_info.csv', index = False)"
      ],
      "execution_count": 6,
      "outputs": []
    },
    {
      "cell_type": "code",
      "metadata": {
        "colab": {
          "base_uri": "https://localhost:8080/",
          "height": 180
        },
        "id": "gSavP8zzFJ1p",
        "outputId": "cb842a99-44c0-4b9b-e058-f9d2d6853d08"
      },
      "source": [
        "books.rename(\n",
        "    columns = {\n",
        "        'ISBN': 'isbn',\n",
        "        'Book-Title': 'book_title',\n",
        "        'Book-Author': 'book_author',\n",
        "        'Year-Of-Publication': 'publication_year',\n",
        "        'Publisher': 'publisher'\n",
        "        }, \n",
        "    inplace=True\n",
        "    )\n",
        "books.head(2)"
      ],
      "execution_count": 7,
      "outputs": [
        {
          "output_type": "execute_result",
          "data": {
            "text/html": [
              "<div>\n",
              "<style scoped>\n",
              "    .dataframe tbody tr th:only-of-type {\n",
              "        vertical-align: middle;\n",
              "    }\n",
              "\n",
              "    .dataframe tbody tr th {\n",
              "        vertical-align: top;\n",
              "    }\n",
              "\n",
              "    .dataframe thead th {\n",
              "        text-align: right;\n",
              "    }\n",
              "</style>\n",
              "<table border=\"1\" class=\"dataframe\">\n",
              "  <thead>\n",
              "    <tr style=\"text-align: right;\">\n",
              "      <th></th>\n",
              "      <th>isbn</th>\n",
              "      <th>book_title</th>\n",
              "      <th>book_author</th>\n",
              "      <th>publication_year</th>\n",
              "      <th>publisher</th>\n",
              "      <th>Image-URL-S</th>\n",
              "      <th>Image-URL-M</th>\n",
              "      <th>Image-URL-L</th>\n",
              "    </tr>\n",
              "  </thead>\n",
              "  <tbody>\n",
              "    <tr>\n",
              "      <th>0</th>\n",
              "      <td>0195153448</td>\n",
              "      <td>Classical Mythology</td>\n",
              "      <td>Mark P. O. Morford</td>\n",
              "      <td>2002</td>\n",
              "      <td>Oxford University Press</td>\n",
              "      <td>http://images.amazon.com/images/P/0195153448.0...</td>\n",
              "      <td>http://images.amazon.com/images/P/0195153448.0...</td>\n",
              "      <td>http://images.amazon.com/images/P/0195153448.0...</td>\n",
              "    </tr>\n",
              "    <tr>\n",
              "      <th>1</th>\n",
              "      <td>0002005018</td>\n",
              "      <td>Clara Callan</td>\n",
              "      <td>Richard Bruce Wright</td>\n",
              "      <td>2001</td>\n",
              "      <td>HarperFlamingo Canada</td>\n",
              "      <td>http://images.amazon.com/images/P/0002005018.0...</td>\n",
              "      <td>http://images.amazon.com/images/P/0002005018.0...</td>\n",
              "      <td>http://images.amazon.com/images/P/0002005018.0...</td>\n",
              "    </tr>\n",
              "  </tbody>\n",
              "</table>\n",
              "</div>"
            ],
            "text/plain": [
              "         isbn  ...                                        Image-URL-L\n",
              "0  0195153448  ...  http://images.amazon.com/images/P/0195153448.0...\n",
              "1  0002005018  ...  http://images.amazon.com/images/P/0002005018.0...\n",
              "\n",
              "[2 rows x 8 columns]"
            ]
          },
          "metadata": {},
          "execution_count": 7
        }
      ]
    },
    {
      "cell_type": "code",
      "metadata": {
        "colab": {
          "base_uri": "https://localhost:8080/",
          "height": 110
        },
        "id": "-lBJyaEp8rAV",
        "outputId": "e19a3450-8df5-43c8-c0cd-14dee5057f77"
      },
      "source": [
        "users.rename(\n",
        "    columns = {\n",
        "        'User-ID': 'user_id',\n",
        "        'Location': 'location',\n",
        "        'Age': 'age'\n",
        "        }, \n",
        "    inplace=True\n",
        "    )\n",
        "users.head(2)"
      ],
      "execution_count": 8,
      "outputs": [
        {
          "output_type": "execute_result",
          "data": {
            "text/html": [
              "<div>\n",
              "<style scoped>\n",
              "    .dataframe tbody tr th:only-of-type {\n",
              "        vertical-align: middle;\n",
              "    }\n",
              "\n",
              "    .dataframe tbody tr th {\n",
              "        vertical-align: top;\n",
              "    }\n",
              "\n",
              "    .dataframe thead th {\n",
              "        text-align: right;\n",
              "    }\n",
              "</style>\n",
              "<table border=\"1\" class=\"dataframe\">\n",
              "  <thead>\n",
              "    <tr style=\"text-align: right;\">\n",
              "      <th></th>\n",
              "      <th>user_id</th>\n",
              "      <th>location</th>\n",
              "      <th>age</th>\n",
              "    </tr>\n",
              "  </thead>\n",
              "  <tbody>\n",
              "    <tr>\n",
              "      <th>0</th>\n",
              "      <td>1</td>\n",
              "      <td>nyc, new york, usa</td>\n",
              "      <td>NaN</td>\n",
              "    </tr>\n",
              "    <tr>\n",
              "      <th>1</th>\n",
              "      <td>2</td>\n",
              "      <td>stockton, california, usa</td>\n",
              "      <td>18.0</td>\n",
              "    </tr>\n",
              "  </tbody>\n",
              "</table>\n",
              "</div>"
            ],
            "text/plain": [
              "   user_id                   location   age\n",
              "0        1         nyc, new york, usa   NaN\n",
              "1        2  stockton, california, usa  18.0"
            ]
          },
          "metadata": {},
          "execution_count": 8
        }
      ]
    },
    {
      "cell_type": "markdown",
      "metadata": {
        "id": "h6ixYYGWNDSb"
      },
      "source": [
        "# 2 Data Cleansing"
      ]
    },
    {
      "cell_type": "code",
      "metadata": {
        "id": "98sF0Vy-FNyg"
      },
      "source": [
        "import warnings\n",
        "warnings.filterwarnings('ignore')"
      ],
      "execution_count": 9,
      "outputs": []
    },
    {
      "cell_type": "code",
      "metadata": {
        "id": "iL_Sk5yGOYFM"
      },
      "source": [
        "def get_missing_values(df):\n",
        "\n",
        "    new_df = pd.DataFrame(columns = ['Total', 'Percent'])\n",
        "    new_df['Total'] = df.isnull().sum(axis = 0)\n",
        "    new_df['Percent'] = new_df['Total'] / df.shape[0] * 100\n",
        "\n",
        "    new_df.sort_values(by=['Total'], inplace=True, ascending=False)\n",
        "    return new_df"
      ],
      "execution_count": 10,
      "outputs": []
    },
    {
      "cell_type": "markdown",
      "metadata": {
        "id": "Vrrf6DOG0Pzr"
      },
      "source": [
        "## 2.1 Users Info"
      ]
    },
    {
      "cell_type": "code",
      "metadata": {
        "colab": {
          "base_uri": "https://localhost:8080/",
          "height": 110
        },
        "id": "yd62TdEXBMj4",
        "outputId": "84f44a7c-3792-4839-f897-029ef036430d"
      },
      "source": [
        "# split location into City, State, Country columns\n",
        "users[['city', 'state', 'country']] = users['location'].str.split(',', n=2, expand=True)\n",
        "users_info = (\n",
        "        users.copy()\n",
        "        .drop(['location'], axis='columns')\n",
        "        )\n",
        "\n",
        "# strip Country column of additional punctuation\n",
        "users_info['country'] = users_info['country'].str.replace('[{}]'.format(string.punctuation), '')\n",
        "\n",
        "# convert user ID column to string\n",
        "# users_info['user_id'] = users_info['user_id'].astype(str)\n",
        "\n",
        "users_info.head(2)"
      ],
      "execution_count": 11,
      "outputs": [
        {
          "output_type": "execute_result",
          "data": {
            "text/html": [
              "<div>\n",
              "<style scoped>\n",
              "    .dataframe tbody tr th:only-of-type {\n",
              "        vertical-align: middle;\n",
              "    }\n",
              "\n",
              "    .dataframe tbody tr th {\n",
              "        vertical-align: top;\n",
              "    }\n",
              "\n",
              "    .dataframe thead th {\n",
              "        text-align: right;\n",
              "    }\n",
              "</style>\n",
              "<table border=\"1\" class=\"dataframe\">\n",
              "  <thead>\n",
              "    <tr style=\"text-align: right;\">\n",
              "      <th></th>\n",
              "      <th>user_id</th>\n",
              "      <th>age</th>\n",
              "      <th>city</th>\n",
              "      <th>state</th>\n",
              "      <th>country</th>\n",
              "    </tr>\n",
              "  </thead>\n",
              "  <tbody>\n",
              "    <tr>\n",
              "      <th>0</th>\n",
              "      <td>1</td>\n",
              "      <td>NaN</td>\n",
              "      <td>nyc</td>\n",
              "      <td>new york</td>\n",
              "      <td>usa</td>\n",
              "    </tr>\n",
              "    <tr>\n",
              "      <th>1</th>\n",
              "      <td>2</td>\n",
              "      <td>18.0</td>\n",
              "      <td>stockton</td>\n",
              "      <td>california</td>\n",
              "      <td>usa</td>\n",
              "    </tr>\n",
              "  </tbody>\n",
              "</table>\n",
              "</div>"
            ],
            "text/plain": [
              "   user_id   age      city        state country\n",
              "0        1   NaN       nyc     new york     usa\n",
              "1        2  18.0  stockton   california     usa"
            ]
          },
          "metadata": {},
          "execution_count": 11
        }
      ]
    },
    {
      "cell_type": "code",
      "metadata": {
        "colab": {
          "base_uri": "https://localhost:8080/",
          "height": 202
        },
        "id": "NVc2BbXq26oK",
        "outputId": "d5007a00-2027-4e12-d90d-66993c2d6bd3"
      },
      "source": [
        "get_missing_values(users_info)"
      ],
      "execution_count": 12,
      "outputs": [
        {
          "output_type": "execute_result",
          "data": {
            "text/html": [
              "<div>\n",
              "<style scoped>\n",
              "    .dataframe tbody tr th:only-of-type {\n",
              "        vertical-align: middle;\n",
              "    }\n",
              "\n",
              "    .dataframe tbody tr th {\n",
              "        vertical-align: top;\n",
              "    }\n",
              "\n",
              "    .dataframe thead th {\n",
              "        text-align: right;\n",
              "    }\n",
              "</style>\n",
              "<table border=\"1\" class=\"dataframe\">\n",
              "  <thead>\n",
              "    <tr style=\"text-align: right;\">\n",
              "      <th></th>\n",
              "      <th>Total</th>\n",
              "      <th>Percent</th>\n",
              "    </tr>\n",
              "  </thead>\n",
              "  <tbody>\n",
              "    <tr>\n",
              "      <th>age</th>\n",
              "      <td>110762</td>\n",
              "      <td>39.719857</td>\n",
              "    </tr>\n",
              "    <tr>\n",
              "      <th>country</th>\n",
              "      <td>2</td>\n",
              "      <td>0.000717</td>\n",
              "    </tr>\n",
              "    <tr>\n",
              "      <th>state</th>\n",
              "      <td>1</td>\n",
              "      <td>0.000359</td>\n",
              "    </tr>\n",
              "    <tr>\n",
              "      <th>user_id</th>\n",
              "      <td>0</td>\n",
              "      <td>0.000000</td>\n",
              "    </tr>\n",
              "    <tr>\n",
              "      <th>city</th>\n",
              "      <td>0</td>\n",
              "      <td>0.000000</td>\n",
              "    </tr>\n",
              "  </tbody>\n",
              "</table>\n",
              "</div>"
            ],
            "text/plain": [
              "          Total    Percent\n",
              "age      110762  39.719857\n",
              "country       2   0.000717\n",
              "state         1   0.000359\n",
              "user_id       0   0.000000\n",
              "city          0   0.000000"
            ]
          },
          "metadata": {},
          "execution_count": 12
        }
      ]
    },
    {
      "cell_type": "code",
      "metadata": {
        "colab": {
          "base_uri": "https://localhost:8080/",
          "height": 202
        },
        "id": "IxXRSCm91N-F",
        "outputId": "9a4f654c-fdb4-464b-dc54-c043d100d807"
      },
      "source": [
        "# replace nonsense age values with NaNs\n",
        "users_info.loc[(users_info['age'] > 115) | (users_info['age'] < 5), 'age'] = np.NaN\n",
        "get_missing_values(users_info)"
      ],
      "execution_count": 13,
      "outputs": [
        {
          "output_type": "execute_result",
          "data": {
            "text/html": [
              "<div>\n",
              "<style scoped>\n",
              "    .dataframe tbody tr th:only-of-type {\n",
              "        vertical-align: middle;\n",
              "    }\n",
              "\n",
              "    .dataframe tbody tr th {\n",
              "        vertical-align: top;\n",
              "    }\n",
              "\n",
              "    .dataframe thead th {\n",
              "        text-align: right;\n",
              "    }\n",
              "</style>\n",
              "<table border=\"1\" class=\"dataframe\">\n",
              "  <thead>\n",
              "    <tr style=\"text-align: right;\">\n",
              "      <th></th>\n",
              "      <th>Total</th>\n",
              "      <th>Percent</th>\n",
              "    </tr>\n",
              "  </thead>\n",
              "  <tbody>\n",
              "    <tr>\n",
              "      <th>age</th>\n",
              "      <td>111729</td>\n",
              "      <td>40.066629</td>\n",
              "    </tr>\n",
              "    <tr>\n",
              "      <th>country</th>\n",
              "      <td>2</td>\n",
              "      <td>0.000717</td>\n",
              "    </tr>\n",
              "    <tr>\n",
              "      <th>state</th>\n",
              "      <td>1</td>\n",
              "      <td>0.000359</td>\n",
              "    </tr>\n",
              "    <tr>\n",
              "      <th>user_id</th>\n",
              "      <td>0</td>\n",
              "      <td>0.000000</td>\n",
              "    </tr>\n",
              "    <tr>\n",
              "      <th>city</th>\n",
              "      <td>0</td>\n",
              "      <td>0.000000</td>\n",
              "    </tr>\n",
              "  </tbody>\n",
              "</table>\n",
              "</div>"
            ],
            "text/plain": [
              "          Total    Percent\n",
              "age      111729  40.066629\n",
              "country       2   0.000717\n",
              "state         1   0.000359\n",
              "user_id       0   0.000000\n",
              "city          0   0.000000"
            ]
          },
          "metadata": {},
          "execution_count": 13
        }
      ]
    },
    {
      "cell_type": "code",
      "metadata": {
        "id": "5CRhV1KTqtrt"
      },
      "source": [
        "#users_info.to_csv( 'users_info.csv', index = False)"
      ],
      "execution_count": 14,
      "outputs": []
    },
    {
      "cell_type": "code",
      "metadata": {
        "colab": {
          "base_uri": "https://localhost:8080/",
          "height": 202
        },
        "id": "lC7g6p383U3r",
        "outputId": "697f1cc3-078a-4b97-a495-7efc9be9863a"
      },
      "source": [
        "mean_age = users_info['age'].mean()\n",
        "users_info['age'] = users_info['age'].fillna(mean_age)\n",
        "get_missing_values(users_info)"
      ],
      "execution_count": 15,
      "outputs": [
        {
          "output_type": "execute_result",
          "data": {
            "text/html": [
              "<div>\n",
              "<style scoped>\n",
              "    .dataframe tbody tr th:only-of-type {\n",
              "        vertical-align: middle;\n",
              "    }\n",
              "\n",
              "    .dataframe tbody tr th {\n",
              "        vertical-align: top;\n",
              "    }\n",
              "\n",
              "    .dataframe thead th {\n",
              "        text-align: right;\n",
              "    }\n",
              "</style>\n",
              "<table border=\"1\" class=\"dataframe\">\n",
              "  <thead>\n",
              "    <tr style=\"text-align: right;\">\n",
              "      <th></th>\n",
              "      <th>Total</th>\n",
              "      <th>Percent</th>\n",
              "    </tr>\n",
              "  </thead>\n",
              "  <tbody>\n",
              "    <tr>\n",
              "      <th>country</th>\n",
              "      <td>2</td>\n",
              "      <td>0.000717</td>\n",
              "    </tr>\n",
              "    <tr>\n",
              "      <th>state</th>\n",
              "      <td>1</td>\n",
              "      <td>0.000359</td>\n",
              "    </tr>\n",
              "    <tr>\n",
              "      <th>user_id</th>\n",
              "      <td>0</td>\n",
              "      <td>0.000000</td>\n",
              "    </tr>\n",
              "    <tr>\n",
              "      <th>age</th>\n",
              "      <td>0</td>\n",
              "      <td>0.000000</td>\n",
              "    </tr>\n",
              "    <tr>\n",
              "      <th>city</th>\n",
              "      <td>0</td>\n",
              "      <td>0.000000</td>\n",
              "    </tr>\n",
              "  </tbody>\n",
              "</table>\n",
              "</div>"
            ],
            "text/plain": [
              "         Total   Percent\n",
              "country      2  0.000717\n",
              "state        1  0.000359\n",
              "user_id      0  0.000000\n",
              "age          0  0.000000\n",
              "city         0  0.000000"
            ]
          },
          "metadata": {},
          "execution_count": 15
        }
      ]
    },
    {
      "cell_type": "code",
      "metadata": {
        "colab": {
          "base_uri": "https://localhost:8080/"
        },
        "id": "OkWmQF85Sx27",
        "outputId": "fb2cc8bc-70ea-4dd8-e3a3-fe81c8d2b44a"
      },
      "source": [
        "users_info['age'].describe()"
      ],
      "execution_count": 16,
      "outputs": [
        {
          "output_type": "execute_result",
          "data": {
            "text/plain": [
              "count    278858.000000\n",
              "mean         34.863441\n",
              "std          10.773322\n",
              "min           5.000000\n",
              "25%          29.000000\n",
              "50%          34.863441\n",
              "75%          35.000000\n",
              "max         115.000000\n",
              "Name: age, dtype: float64"
            ]
          },
          "metadata": {},
          "execution_count": 16
        }
      ]
    },
    {
      "cell_type": "code",
      "metadata": {
        "colab": {
          "base_uri": "https://localhost:8080/",
          "height": 171
        },
        "id": "AnDzwzqKAcpL",
        "outputId": "b459e4c0-39d5-453a-b568-ce44f0bdf0ae"
      },
      "source": [
        "users_info[['city', 'state', 'country']].describe()"
      ],
      "execution_count": 17,
      "outputs": [
        {
          "output_type": "execute_result",
          "data": {
            "text/html": [
              "<div>\n",
              "<style scoped>\n",
              "    .dataframe tbody tr th:only-of-type {\n",
              "        vertical-align: middle;\n",
              "    }\n",
              "\n",
              "    .dataframe tbody tr th {\n",
              "        vertical-align: top;\n",
              "    }\n",
              "\n",
              "    .dataframe thead th {\n",
              "        text-align: right;\n",
              "    }\n",
              "</style>\n",
              "<table border=\"1\" class=\"dataframe\">\n",
              "  <thead>\n",
              "    <tr style=\"text-align: right;\">\n",
              "      <th></th>\n",
              "      <th>city</th>\n",
              "      <th>state</th>\n",
              "      <th>country</th>\n",
              "    </tr>\n",
              "  </thead>\n",
              "  <tbody>\n",
              "    <tr>\n",
              "      <th>count</th>\n",
              "      <td>278858</td>\n",
              "      <td>278857</td>\n",
              "      <td>278856</td>\n",
              "    </tr>\n",
              "    <tr>\n",
              "      <th>unique</th>\n",
              "      <td>32770</td>\n",
              "      <td>6334</td>\n",
              "      <td>1145</td>\n",
              "    </tr>\n",
              "    <tr>\n",
              "      <th>top</th>\n",
              "      <td>london</td>\n",
              "      <td>california</td>\n",
              "      <td>usa</td>\n",
              "    </tr>\n",
              "    <tr>\n",
              "      <th>freq</th>\n",
              "      <td>4105</td>\n",
              "      <td>19898</td>\n",
              "      <td>139190</td>\n",
              "    </tr>\n",
              "  </tbody>\n",
              "</table>\n",
              "</div>"
            ],
            "text/plain": [
              "          city        state country\n",
              "count   278858       278857  278856\n",
              "unique   32770         6334    1145\n",
              "top     london   california     usa\n",
              "freq      4105        19898  139190"
            ]
          },
          "metadata": {},
          "execution_count": 17
        }
      ]
    },
    {
      "cell_type": "markdown",
      "metadata": {
        "id": "RlGYuWeL3s7U"
      },
      "source": [
        "## 2.2 Books Info"
      ]
    },
    {
      "cell_type": "code",
      "metadata": {
        "colab": {
          "base_uri": "https://localhost:8080/",
          "height": 514
        },
        "id": "1urxDf7m8vXi",
        "outputId": "628f4ee4-a4b0-49a1-e2aa-bfa50c3c29f5"
      },
      "source": [
        "# drop images for now\n",
        "books_info = (\n",
        "        books.copy()\n",
        "        .drop(['Image-URL-S', 'Image-URL-M'], axis='columns')\n",
        "        )\n",
        "books_info"
      ],
      "execution_count": 18,
      "outputs": [
        {
          "output_type": "execute_result",
          "data": {
            "text/html": [
              "<div>\n",
              "<style scoped>\n",
              "    .dataframe tbody tr th:only-of-type {\n",
              "        vertical-align: middle;\n",
              "    }\n",
              "\n",
              "    .dataframe tbody tr th {\n",
              "        vertical-align: top;\n",
              "    }\n",
              "\n",
              "    .dataframe thead th {\n",
              "        text-align: right;\n",
              "    }\n",
              "</style>\n",
              "<table border=\"1\" class=\"dataframe\">\n",
              "  <thead>\n",
              "    <tr style=\"text-align: right;\">\n",
              "      <th></th>\n",
              "      <th>isbn</th>\n",
              "      <th>book_title</th>\n",
              "      <th>book_author</th>\n",
              "      <th>publication_year</th>\n",
              "      <th>publisher</th>\n",
              "      <th>Image-URL-L</th>\n",
              "    </tr>\n",
              "  </thead>\n",
              "  <tbody>\n",
              "    <tr>\n",
              "      <th>0</th>\n",
              "      <td>0195153448</td>\n",
              "      <td>Classical Mythology</td>\n",
              "      <td>Mark P. O. Morford</td>\n",
              "      <td>2002</td>\n",
              "      <td>Oxford University Press</td>\n",
              "      <td>http://images.amazon.com/images/P/0195153448.0...</td>\n",
              "    </tr>\n",
              "    <tr>\n",
              "      <th>1</th>\n",
              "      <td>0002005018</td>\n",
              "      <td>Clara Callan</td>\n",
              "      <td>Richard Bruce Wright</td>\n",
              "      <td>2001</td>\n",
              "      <td>HarperFlamingo Canada</td>\n",
              "      <td>http://images.amazon.com/images/P/0002005018.0...</td>\n",
              "    </tr>\n",
              "    <tr>\n",
              "      <th>2</th>\n",
              "      <td>0060973129</td>\n",
              "      <td>Decision in Normandy</td>\n",
              "      <td>Carlo D'Este</td>\n",
              "      <td>1991</td>\n",
              "      <td>HarperPerennial</td>\n",
              "      <td>http://images.amazon.com/images/P/0060973129.0...</td>\n",
              "    </tr>\n",
              "    <tr>\n",
              "      <th>3</th>\n",
              "      <td>0374157065</td>\n",
              "      <td>Flu: The Story of the Great Influenza Pandemic...</td>\n",
              "      <td>Gina Bari Kolata</td>\n",
              "      <td>1999</td>\n",
              "      <td>Farrar Straus Giroux</td>\n",
              "      <td>http://images.amazon.com/images/P/0374157065.0...</td>\n",
              "    </tr>\n",
              "    <tr>\n",
              "      <th>4</th>\n",
              "      <td>0393045218</td>\n",
              "      <td>The Mummies of Urumchi</td>\n",
              "      <td>E. J. W. Barber</td>\n",
              "      <td>1999</td>\n",
              "      <td>W. W. Norton &amp;amp; Company</td>\n",
              "      <td>http://images.amazon.com/images/P/0393045218.0...</td>\n",
              "    </tr>\n",
              "    <tr>\n",
              "      <th>...</th>\n",
              "      <td>...</td>\n",
              "      <td>...</td>\n",
              "      <td>...</td>\n",
              "      <td>...</td>\n",
              "      <td>...</td>\n",
              "      <td>...</td>\n",
              "    </tr>\n",
              "    <tr>\n",
              "      <th>271355</th>\n",
              "      <td>0440400988</td>\n",
              "      <td>There's a Bat in Bunk Five</td>\n",
              "      <td>Paula Danziger</td>\n",
              "      <td>1988</td>\n",
              "      <td>Random House Childrens Pub (Mm)</td>\n",
              "      <td>http://images.amazon.com/images/P/0440400988.0...</td>\n",
              "    </tr>\n",
              "    <tr>\n",
              "      <th>271356</th>\n",
              "      <td>0525447644</td>\n",
              "      <td>From One to One Hundred</td>\n",
              "      <td>Teri Sloat</td>\n",
              "      <td>1991</td>\n",
              "      <td>Dutton Books</td>\n",
              "      <td>http://images.amazon.com/images/P/0525447644.0...</td>\n",
              "    </tr>\n",
              "    <tr>\n",
              "      <th>271357</th>\n",
              "      <td>006008667X</td>\n",
              "      <td>Lily Dale : The True Story of the Town that Ta...</td>\n",
              "      <td>Christine Wicker</td>\n",
              "      <td>2004</td>\n",
              "      <td>HarperSanFrancisco</td>\n",
              "      <td>http://images.amazon.com/images/P/006008667X.0...</td>\n",
              "    </tr>\n",
              "    <tr>\n",
              "      <th>271358</th>\n",
              "      <td>0192126040</td>\n",
              "      <td>Republic (World's Classics)</td>\n",
              "      <td>Plato</td>\n",
              "      <td>1996</td>\n",
              "      <td>Oxford University Press</td>\n",
              "      <td>http://images.amazon.com/images/P/0192126040.0...</td>\n",
              "    </tr>\n",
              "    <tr>\n",
              "      <th>271359</th>\n",
              "      <td>0767409752</td>\n",
              "      <td>A Guided Tour of Rene Descartes' Meditations o...</td>\n",
              "      <td>Christopher  Biffle</td>\n",
              "      <td>2000</td>\n",
              "      <td>McGraw-Hill Humanities/Social Sciences/Languages</td>\n",
              "      <td>http://images.amazon.com/images/P/0767409752.0...</td>\n",
              "    </tr>\n",
              "  </tbody>\n",
              "</table>\n",
              "<p>271360 rows × 6 columns</p>\n",
              "</div>"
            ],
            "text/plain": [
              "              isbn  ...                                        Image-URL-L\n",
              "0       0195153448  ...  http://images.amazon.com/images/P/0195153448.0...\n",
              "1       0002005018  ...  http://images.amazon.com/images/P/0002005018.0...\n",
              "2       0060973129  ...  http://images.amazon.com/images/P/0060973129.0...\n",
              "3       0374157065  ...  http://images.amazon.com/images/P/0374157065.0...\n",
              "4       0393045218  ...  http://images.amazon.com/images/P/0393045218.0...\n",
              "...            ...  ...                                                ...\n",
              "271355  0440400988  ...  http://images.amazon.com/images/P/0440400988.0...\n",
              "271356  0525447644  ...  http://images.amazon.com/images/P/0525447644.0...\n",
              "271357  006008667X  ...  http://images.amazon.com/images/P/006008667X.0...\n",
              "271358  0192126040  ...  http://images.amazon.com/images/P/0192126040.0...\n",
              "271359  0767409752  ...  http://images.amazon.com/images/P/0767409752.0...\n",
              "\n",
              "[271360 rows x 6 columns]"
            ]
          },
          "metadata": {},
          "execution_count": 18
        }
      ]
    },
    {
      "cell_type": "code",
      "metadata": {
        "colab": {
          "base_uri": "https://localhost:8080/"
        },
        "id": "gfkHOxWMN8D0",
        "outputId": "2c745e80-fbe1-4c8b-de2e-761a9c9b59b4"
      },
      "source": [
        "# some entries are integer, some are strings, needs to be cleaned\n",
        "books_info['publication_year'].unique()"
      ],
      "execution_count": 19,
      "outputs": [
        {
          "output_type": "execute_result",
          "data": {
            "text/plain": [
              "array([2002, 2001, 1991, 1999, 2000, 1993, 1996, 1988, 2004, 1998, 1994,\n",
              "       2003, 1997, 1983, 1979, 1995, 1982, 1985, 1992, 1986, 1978, 1980,\n",
              "       1952, 1987, 1990, 1981, 1989, 1984, 0, 1968, 1961, 1958, 1974,\n",
              "       1976, 1971, 1977, 1975, 1965, 1941, 1970, 1962, 1973, 1972, 1960,\n",
              "       1966, 1920, 1956, 1959, 1953, 1951, 1942, 1963, 1964, 1969, 1954,\n",
              "       1950, 1967, 2005, 1957, 1940, 1937, 1955, 1946, 1936, 1930, 2011,\n",
              "       1925, 1948, 1943, 1947, 1945, 1923, 2020, 1939, 1926, 1938, 2030,\n",
              "       1911, 1904, 1949, 1932, 1928, 1929, 1927, 1931, 1914, 2050, 1934,\n",
              "       1910, 1933, 1902, 1924, 1921, 1900, 2038, 2026, 1944, 1917, 1901,\n",
              "       2010, 1908, 1906, 1935, 1806, 2021, '2000', '1995', '1999', '2004',\n",
              "       '2003', '1990', '1994', '1986', '1989', '2002', '1981', '1993',\n",
              "       '1983', '1982', '1976', '1991', '1977', '1998', '1992', '1996',\n",
              "       '0', '1997', '2001', '1974', '1968', '1987', '1984', '1988',\n",
              "       '1963', '1956', '1970', '1985', '1978', '1973', '1980', '1979',\n",
              "       '1975', '1969', '1961', '1965', '1939', '1958', '1950', '1953',\n",
              "       '1966', '1971', '1959', '1972', '1955', '1957', '1945', '1960',\n",
              "       '1967', '1932', '1924', '1964', '2012', '1911', '1927', '1948',\n",
              "       '1962', '2006', '1952', '1940', '1951', '1931', '1954', '2005',\n",
              "       '1930', '1941', '1944', 'DK Publishing Inc', '1943', '1938',\n",
              "       '1900', '1942', '1923', '1920', '1933', 'Gallimard', '1909',\n",
              "       '1946', '2008', '1378', '2030', '1936', '1947', '2011', '2020',\n",
              "       '1919', '1949', '1922', '1897', '2024', '1376', '1926', '2037'],\n",
              "      dtype=object)"
            ]
          },
          "metadata": {},
          "execution_count": 19
        }
      ]
    },
    {
      "cell_type": "code",
      "metadata": {
        "colab": {
          "base_uri": "https://localhost:8080/"
        },
        "id": "15HmpHjKhjNI",
        "outputId": "9d478dae-af39-42d2-cc2f-08eadc98a89f"
      },
      "source": [
        "# drop rows with entry errors\n",
        "books_info = books_info[ (books_info['publication_year'] != 'DK Publishing Inc') & (books_info['publication_year'] != 'Gallimard') ]\n",
        "\n",
        "# change dtype to numeric\n",
        "books_info['publication_year'] = pd.to_numeric(books_info['publication_year'])\n",
        "\n",
        "# still entries with year of publication == 0, which does not make much sense\n",
        "# change entries with year of publication < 1800 & year of publication > 2004 to 0 \n",
        "books_info.loc[(books_info['publication_year'] < 1800) | (books_info['publication_year'] > 2004), 'publication_year'] = 0\n",
        "\n",
        "np.sort(\n",
        "    books_info['publication_year'].unique()\n",
        ")"
      ],
      "execution_count": 20,
      "outputs": [
        {
          "output_type": "execute_result",
          "data": {
            "text/plain": [
              "array([   0, 1806, 1897, 1900, 1901, 1902, 1904, 1906, 1908, 1909, 1910,\n",
              "       1911, 1914, 1917, 1919, 1920, 1921, 1922, 1923, 1924, 1925, 1926,\n",
              "       1927, 1928, 1929, 1930, 1931, 1932, 1933, 1934, 1935, 1936, 1937,\n",
              "       1938, 1939, 1940, 1941, 1942, 1943, 1944, 1945, 1946, 1947, 1948,\n",
              "       1949, 1950, 1951, 1952, 1953, 1954, 1955, 1956, 1957, 1958, 1959,\n",
              "       1960, 1961, 1962, 1963, 1964, 1965, 1966, 1967, 1968, 1969, 1970,\n",
              "       1971, 1972, 1973, 1974, 1975, 1976, 1977, 1978, 1979, 1980, 1981,\n",
              "       1982, 1983, 1984, 1985, 1986, 1987, 1988, 1989, 1990, 1991, 1992,\n",
              "       1993, 1994, 1995, 1996, 1997, 1998, 1999, 2000, 2001, 2002, 2003,\n",
              "       2004])"
            ]
          },
          "metadata": {},
          "execution_count": 20
        }
      ]
    },
    {
      "cell_type": "code",
      "metadata": {
        "colab": {
          "base_uri": "https://localhost:8080/",
          "height": 1000
        },
        "id": "_88Py2Zaw7P3",
        "outputId": "0853c766-790f-4b27-8538-0e318fa119e4"
      },
      "source": [
        "# clean the book_title column- remove text within the brackets\n",
        "# usually represent either the edition of the book, name of the publisher, or the name of the book series -> in the end, it is the same book\n",
        "books_info[books_info[\"book_title\"].str.contains(\"Anna Karenina\")]"
      ],
      "execution_count": 21,
      "outputs": [
        {
          "output_type": "execute_result",
          "data": {
            "text/html": [
              "<div>\n",
              "<style scoped>\n",
              "    .dataframe tbody tr th:only-of-type {\n",
              "        vertical-align: middle;\n",
              "    }\n",
              "\n",
              "    .dataframe tbody tr th {\n",
              "        vertical-align: top;\n",
              "    }\n",
              "\n",
              "    .dataframe thead th {\n",
              "        text-align: right;\n",
              "    }\n",
              "</style>\n",
              "<table border=\"1\" class=\"dataframe\">\n",
              "  <thead>\n",
              "    <tr style=\"text-align: right;\">\n",
              "      <th></th>\n",
              "      <th>isbn</th>\n",
              "      <th>book_title</th>\n",
              "      <th>book_author</th>\n",
              "      <th>publication_year</th>\n",
              "      <th>publisher</th>\n",
              "      <th>Image-URL-L</th>\n",
              "    </tr>\n",
              "  </thead>\n",
              "  <tbody>\n",
              "    <tr>\n",
              "      <th>6887</th>\n",
              "      <td>1853262714</td>\n",
              "      <td>Anna Karenina (Wordsworth Classics)</td>\n",
              "      <td>Leo Tolstoy</td>\n",
              "      <td>1997</td>\n",
              "      <td>NTC/Contemporary Publishing Company</td>\n",
              "      <td>http://images.amazon.com/images/P/1853262714.0...</td>\n",
              "    </tr>\n",
              "    <tr>\n",
              "      <th>8230</th>\n",
              "      <td>0553211714</td>\n",
              "      <td>Anna Karenina</td>\n",
              "      <td>Leo Tolstoy</td>\n",
              "      <td>1984</td>\n",
              "      <td>Bantam</td>\n",
              "      <td>http://images.amazon.com/images/P/0553211714.0...</td>\n",
              "    </tr>\n",
              "    <tr>\n",
              "      <th>14451</th>\n",
              "      <td>0451524497</td>\n",
              "      <td>Anna Karenina (Signet Classics (Paperback))</td>\n",
              "      <td>Leo Tolstoy</td>\n",
              "      <td>1988</td>\n",
              "      <td>Penguin Books</td>\n",
              "      <td>http://images.amazon.com/images/P/0451524497.0...</td>\n",
              "    </tr>\n",
              "    <tr>\n",
              "      <th>22923</th>\n",
              "      <td>0713994606</td>\n",
              "      <td>Anna Karenina (Penguin Classics)</td>\n",
              "      <td>Leo Tolstoy</td>\n",
              "      <td>2000</td>\n",
              "      <td>Viking</td>\n",
              "      <td>http://images.amazon.com/images/P/0713994606.0...</td>\n",
              "    </tr>\n",
              "    <tr>\n",
              "      <th>28499</th>\n",
              "      <td>0143035002</td>\n",
              "      <td>Anna Karenina (Oprah's Book Club)</td>\n",
              "      <td>Leo Tolstoy</td>\n",
              "      <td>2004</td>\n",
              "      <td>Penguin Books</td>\n",
              "      <td>http://images.amazon.com/images/P/0143035002.0...</td>\n",
              "    </tr>\n",
              "    <tr>\n",
              "      <th>34418</th>\n",
              "      <td>067978330X</td>\n",
              "      <td>Anna Karenina (Modern Library Classics)</td>\n",
              "      <td>Leo Tolstoy</td>\n",
              "      <td>2000</td>\n",
              "      <td>Modern Library</td>\n",
              "      <td>http://images.amazon.com/images/P/067978330X.0...</td>\n",
              "    </tr>\n",
              "    <tr>\n",
              "      <th>36076</th>\n",
              "      <td>0553213466</td>\n",
              "      <td>Anna Karenina</td>\n",
              "      <td>Leo Tolstoy</td>\n",
              "      <td>1984</td>\n",
              "      <td>Bantam</td>\n",
              "      <td>http://images.amazon.com/images/P/0553213466.0...</td>\n",
              "    </tr>\n",
              "    <tr>\n",
              "      <th>42930</th>\n",
              "      <td>1404360700</td>\n",
              "      <td>Anna Karenina</td>\n",
              "      <td>Leo Tolstoy</td>\n",
              "      <td>2003</td>\n",
              "      <td>IndyPublish.com</td>\n",
              "      <td>http://images.amazon.com/images/P/1404360700.0...</td>\n",
              "    </tr>\n",
              "    <tr>\n",
              "      <th>46540</th>\n",
              "      <td>0192833812</td>\n",
              "      <td>Anna Karenina (Oxford World's Classics)</td>\n",
              "      <td>Leo Tolstoy</td>\n",
              "      <td>1998</td>\n",
              "      <td>Oxford University Press</td>\n",
              "      <td>http://images.amazon.com/images/P/0192833812.0...</td>\n",
              "    </tr>\n",
              "    <tr>\n",
              "      <th>50877</th>\n",
              "      <td>157815118X</td>\n",
              "      <td>Anna Karenina</td>\n",
              "      <td>Leo Tolstoy</td>\n",
              "      <td>2004</td>\n",
              "      <td>Media Books Audio Publishing</td>\n",
              "      <td>http://images.amazon.com/images/P/157815118X.0...</td>\n",
              "    </tr>\n",
              "    <tr>\n",
              "      <th>54588</th>\n",
              "      <td>0192815105</td>\n",
              "      <td>Anna Karenina (The World's Classics)</td>\n",
              "      <td>Leo Tolstoy</td>\n",
              "      <td>1980</td>\n",
              "      <td>Oxford University Press</td>\n",
              "      <td>http://images.amazon.com/images/P/0192815105.0...</td>\n",
              "    </tr>\n",
              "    <tr>\n",
              "      <th>72798</th>\n",
              "      <td>0670894788</td>\n",
              "      <td>Anna Karenina</td>\n",
              "      <td>Leo Tolstoy</td>\n",
              "      <td>2001</td>\n",
              "      <td>Viking Books</td>\n",
              "      <td>http://images.amazon.com/images/P/0670894788.0...</td>\n",
              "    </tr>\n",
              "    <tr>\n",
              "      <th>73181</th>\n",
              "      <td>0140440410</td>\n",
              "      <td>Anna Karenina (Penguin Classics)</td>\n",
              "      <td>Leo Tolstoy</td>\n",
              "      <td>1977</td>\n",
              "      <td>Penguin Books</td>\n",
              "      <td>http://images.amazon.com/images/P/0140440410.0...</td>\n",
              "    </tr>\n",
              "    <tr>\n",
              "      <th>74471</th>\n",
              "      <td>0760706131</td>\n",
              "      <td>Anna Karenina</td>\n",
              "      <td>Leo Tolstoy</td>\n",
              "      <td>1997</td>\n",
              "      <td>Barnes &amp;amp; Noble Books</td>\n",
              "      <td>http://images.amazon.com/images/P/0760706131.0...</td>\n",
              "    </tr>\n",
              "    <tr>\n",
              "      <th>78404</th>\n",
              "      <td>0140449175</td>\n",
              "      <td>Anna Karenina (Penguin Classics)</td>\n",
              "      <td>Leo Tolstoy</td>\n",
              "      <td>2003</td>\n",
              "      <td>Penguin Books Ltd</td>\n",
              "      <td>http://images.amazon.com/images/P/0140449175.0...</td>\n",
              "    </tr>\n",
              "    <tr>\n",
              "      <th>95913</th>\n",
              "      <td>0140448179</td>\n",
              "      <td>Anna Karenina (Wonders of the World S.)</td>\n",
              "      <td>Leo Tolstoy</td>\n",
              "      <td>2002</td>\n",
              "      <td>Penguin Books Ltd</td>\n",
              "      <td>http://images.amazon.com/images/P/0140448179.0...</td>\n",
              "    </tr>\n",
              "    <tr>\n",
              "      <th>102871</th>\n",
              "      <td>0553210343</td>\n",
              "      <td>Anna Karenina</td>\n",
              "      <td>Leo Tolstoy</td>\n",
              "      <td>1981</td>\n",
              "      <td>Bantam Books</td>\n",
              "      <td>http://images.amazon.com/images/P/0553210343.0...</td>\n",
              "    </tr>\n",
              "    <tr>\n",
              "      <th>109483</th>\n",
              "      <td>0451528611</td>\n",
              "      <td>Anna Karenina (Signet Classics (Paperback))</td>\n",
              "      <td>Leo Tolstoy</td>\n",
              "      <td>2002</td>\n",
              "      <td>Signet Classics</td>\n",
              "      <td>http://images.amazon.com/images/P/0451528611.0...</td>\n",
              "    </tr>\n",
              "    <tr>\n",
              "      <th>119909</th>\n",
              "      <td>1593080271</td>\n",
              "      <td>Anna Karenina (Barnes &amp;amp; Noble Classics)</td>\n",
              "      <td>Leo Tolstoy</td>\n",
              "      <td>2003</td>\n",
              "      <td>Barnes &amp;amp; Noble Books-Imports</td>\n",
              "      <td>http://images.amazon.com/images/P/1593080271.0...</td>\n",
              "    </tr>\n",
              "    <tr>\n",
              "      <th>156479</th>\n",
              "      <td>0393966429</td>\n",
              "      <td>Anna Karenina: The Maude Translation : Backgro...</td>\n",
              "      <td>Leo Tolstoy</td>\n",
              "      <td>1995</td>\n",
              "      <td>W. W. Norton &amp;amp; Company</td>\n",
              "      <td>http://images.amazon.com/images/P/0393966429.0...</td>\n",
              "    </tr>\n",
              "    <tr>\n",
              "      <th>170860</th>\n",
              "      <td>0451519353</td>\n",
              "      <td>Anna Karenina</td>\n",
              "      <td>Leo Tolstoy</td>\n",
              "      <td>1985</td>\n",
              "      <td>Signet Book</td>\n",
              "      <td>http://images.amazon.com/images/P/0451519353.0...</td>\n",
              "    </tr>\n",
              "    <tr>\n",
              "      <th>173502</th>\n",
              "      <td>0142000272</td>\n",
              "      <td>Anna Karenina: A Novel in Eight Parts</td>\n",
              "      <td>Leo Tolstoy</td>\n",
              "      <td>2001</td>\n",
              "      <td>Penguin Books</td>\n",
              "      <td>http://images.amazon.com/images/P/0142000272.0...</td>\n",
              "    </tr>\n",
              "    <tr>\n",
              "      <th>213093</th>\n",
              "      <td>0679410007</td>\n",
              "      <td>Anna Karenina (Everyman's Library (Cloth))</td>\n",
              "      <td>Leo Tolstoy</td>\n",
              "      <td>1992</td>\n",
              "      <td>Alfred A. Knopf</td>\n",
              "      <td>http://images.amazon.com/images/P/0679410007.0...</td>\n",
              "    </tr>\n",
              "    <tr>\n",
              "      <th>215977</th>\n",
              "      <td>0192823655</td>\n",
              "      <td>Anna Karenina (World's Classics)</td>\n",
              "      <td>W. Gareth Jones</td>\n",
              "      <td>1995</td>\n",
              "      <td>Oxford Univ Pr</td>\n",
              "      <td>http://images.amazon.com/images/P/0192823655.0...</td>\n",
              "    </tr>\n",
              "    <tr>\n",
              "      <th>229760</th>\n",
              "      <td>0140447237</td>\n",
              "      <td>Anna Karenina (Penguin Classics)</td>\n",
              "      <td>Leo Tolstoy</td>\n",
              "      <td>2001</td>\n",
              "      <td>Penguin Books Ltd</td>\n",
              "      <td>http://images.amazon.com/images/P/0140447237.0...</td>\n",
              "    </tr>\n",
              "    <tr>\n",
              "      <th>234129</th>\n",
              "      <td>0679600795</td>\n",
              "      <td>Anna Karenina (Modern Library)</td>\n",
              "      <td>Leo Tolstoy</td>\n",
              "      <td>1993</td>\n",
              "      <td>Modern Library</td>\n",
              "      <td>http://images.amazon.com/images/P/0679600795.0...</td>\n",
              "    </tr>\n",
              "    <tr>\n",
              "      <th>246850</th>\n",
              "      <td>8437606322</td>\n",
              "      <td>Anna Karenina</td>\n",
              "      <td>Leo Tolstoy</td>\n",
              "      <td>1999</td>\n",
              "      <td>Ediciones Catedra S.A.</td>\n",
              "      <td>http://images.amazon.com/images/P/8437606322.0...</td>\n",
              "    </tr>\n",
              "    <tr>\n",
              "      <th>270559</th>\n",
              "      <td>0451521862</td>\n",
              "      <td>Anna Karenina</td>\n",
              "      <td>Leo Tolstoy</td>\n",
              "      <td>1961</td>\n",
              "      <td>Signet Book</td>\n",
              "      <td>http://images.amazon.com/images/P/0451521862.0...</td>\n",
              "    </tr>\n",
              "  </tbody>\n",
              "</table>\n",
              "</div>"
            ],
            "text/plain": [
              "              isbn  ...                                        Image-URL-L\n",
              "6887    1853262714  ...  http://images.amazon.com/images/P/1853262714.0...\n",
              "8230    0553211714  ...  http://images.amazon.com/images/P/0553211714.0...\n",
              "14451   0451524497  ...  http://images.amazon.com/images/P/0451524497.0...\n",
              "22923   0713994606  ...  http://images.amazon.com/images/P/0713994606.0...\n",
              "28499   0143035002  ...  http://images.amazon.com/images/P/0143035002.0...\n",
              "34418   067978330X  ...  http://images.amazon.com/images/P/067978330X.0...\n",
              "36076   0553213466  ...  http://images.amazon.com/images/P/0553213466.0...\n",
              "42930   1404360700  ...  http://images.amazon.com/images/P/1404360700.0...\n",
              "46540   0192833812  ...  http://images.amazon.com/images/P/0192833812.0...\n",
              "50877   157815118X  ...  http://images.amazon.com/images/P/157815118X.0...\n",
              "54588   0192815105  ...  http://images.amazon.com/images/P/0192815105.0...\n",
              "72798   0670894788  ...  http://images.amazon.com/images/P/0670894788.0...\n",
              "73181   0140440410  ...  http://images.amazon.com/images/P/0140440410.0...\n",
              "74471   0760706131  ...  http://images.amazon.com/images/P/0760706131.0...\n",
              "78404   0140449175  ...  http://images.amazon.com/images/P/0140449175.0...\n",
              "95913   0140448179  ...  http://images.amazon.com/images/P/0140448179.0...\n",
              "102871  0553210343  ...  http://images.amazon.com/images/P/0553210343.0...\n",
              "109483  0451528611  ...  http://images.amazon.com/images/P/0451528611.0...\n",
              "119909  1593080271  ...  http://images.amazon.com/images/P/1593080271.0...\n",
              "156479  0393966429  ...  http://images.amazon.com/images/P/0393966429.0...\n",
              "170860  0451519353  ...  http://images.amazon.com/images/P/0451519353.0...\n",
              "173502  0142000272  ...  http://images.amazon.com/images/P/0142000272.0...\n",
              "213093  0679410007  ...  http://images.amazon.com/images/P/0679410007.0...\n",
              "215977  0192823655  ...  http://images.amazon.com/images/P/0192823655.0...\n",
              "229760  0140447237  ...  http://images.amazon.com/images/P/0140447237.0...\n",
              "234129  0679600795  ...  http://images.amazon.com/images/P/0679600795.0...\n",
              "246850  8437606322  ...  http://images.amazon.com/images/P/8437606322.0...\n",
              "270559  0451521862  ...  http://images.amazon.com/images/P/0451521862.0...\n",
              "\n",
              "[28 rows x 6 columns]"
            ]
          },
          "metadata": {},
          "execution_count": 21
        }
      ]
    },
    {
      "cell_type": "code",
      "metadata": {
        "colab": {
          "base_uri": "https://localhost:8080/",
          "height": 1000
        },
        "id": "dINsZCcltrnE",
        "outputId": "89688e7f-31fa-44f3-c63d-2288c407f20b"
      },
      "source": [
        "# remove everything between round brackets, nested brackets, and the brackets themself\n",
        "books_info['book_title'] = books_info['book_title'].str.replace(r\"\\(.*\\)\",\"\")\n",
        "books_info['book_title'] = books_info['book_title'].str.replace(r\"[ \\t]+$\",\"\")\n",
        "\n",
        "books_info[books_info[\"book_title\"].str.contains(\"Anna Karenina\")]"
      ],
      "execution_count": 22,
      "outputs": [
        {
          "output_type": "execute_result",
          "data": {
            "text/html": [
              "<div>\n",
              "<style scoped>\n",
              "    .dataframe tbody tr th:only-of-type {\n",
              "        vertical-align: middle;\n",
              "    }\n",
              "\n",
              "    .dataframe tbody tr th {\n",
              "        vertical-align: top;\n",
              "    }\n",
              "\n",
              "    .dataframe thead th {\n",
              "        text-align: right;\n",
              "    }\n",
              "</style>\n",
              "<table border=\"1\" class=\"dataframe\">\n",
              "  <thead>\n",
              "    <tr style=\"text-align: right;\">\n",
              "      <th></th>\n",
              "      <th>isbn</th>\n",
              "      <th>book_title</th>\n",
              "      <th>book_author</th>\n",
              "      <th>publication_year</th>\n",
              "      <th>publisher</th>\n",
              "      <th>Image-URL-L</th>\n",
              "    </tr>\n",
              "  </thead>\n",
              "  <tbody>\n",
              "    <tr>\n",
              "      <th>6887</th>\n",
              "      <td>1853262714</td>\n",
              "      <td>Anna Karenina</td>\n",
              "      <td>Leo Tolstoy</td>\n",
              "      <td>1997</td>\n",
              "      <td>NTC/Contemporary Publishing Company</td>\n",
              "      <td>http://images.amazon.com/images/P/1853262714.0...</td>\n",
              "    </tr>\n",
              "    <tr>\n",
              "      <th>8230</th>\n",
              "      <td>0553211714</td>\n",
              "      <td>Anna Karenina</td>\n",
              "      <td>Leo Tolstoy</td>\n",
              "      <td>1984</td>\n",
              "      <td>Bantam</td>\n",
              "      <td>http://images.amazon.com/images/P/0553211714.0...</td>\n",
              "    </tr>\n",
              "    <tr>\n",
              "      <th>14451</th>\n",
              "      <td>0451524497</td>\n",
              "      <td>Anna Karenina</td>\n",
              "      <td>Leo Tolstoy</td>\n",
              "      <td>1988</td>\n",
              "      <td>Penguin Books</td>\n",
              "      <td>http://images.amazon.com/images/P/0451524497.0...</td>\n",
              "    </tr>\n",
              "    <tr>\n",
              "      <th>22923</th>\n",
              "      <td>0713994606</td>\n",
              "      <td>Anna Karenina</td>\n",
              "      <td>Leo Tolstoy</td>\n",
              "      <td>2000</td>\n",
              "      <td>Viking</td>\n",
              "      <td>http://images.amazon.com/images/P/0713994606.0...</td>\n",
              "    </tr>\n",
              "    <tr>\n",
              "      <th>28499</th>\n",
              "      <td>0143035002</td>\n",
              "      <td>Anna Karenina</td>\n",
              "      <td>Leo Tolstoy</td>\n",
              "      <td>2004</td>\n",
              "      <td>Penguin Books</td>\n",
              "      <td>http://images.amazon.com/images/P/0143035002.0...</td>\n",
              "    </tr>\n",
              "    <tr>\n",
              "      <th>34418</th>\n",
              "      <td>067978330X</td>\n",
              "      <td>Anna Karenina</td>\n",
              "      <td>Leo Tolstoy</td>\n",
              "      <td>2000</td>\n",
              "      <td>Modern Library</td>\n",
              "      <td>http://images.amazon.com/images/P/067978330X.0...</td>\n",
              "    </tr>\n",
              "    <tr>\n",
              "      <th>36076</th>\n",
              "      <td>0553213466</td>\n",
              "      <td>Anna Karenina</td>\n",
              "      <td>Leo Tolstoy</td>\n",
              "      <td>1984</td>\n",
              "      <td>Bantam</td>\n",
              "      <td>http://images.amazon.com/images/P/0553213466.0...</td>\n",
              "    </tr>\n",
              "    <tr>\n",
              "      <th>42930</th>\n",
              "      <td>1404360700</td>\n",
              "      <td>Anna Karenina</td>\n",
              "      <td>Leo Tolstoy</td>\n",
              "      <td>2003</td>\n",
              "      <td>IndyPublish.com</td>\n",
              "      <td>http://images.amazon.com/images/P/1404360700.0...</td>\n",
              "    </tr>\n",
              "    <tr>\n",
              "      <th>46540</th>\n",
              "      <td>0192833812</td>\n",
              "      <td>Anna Karenina</td>\n",
              "      <td>Leo Tolstoy</td>\n",
              "      <td>1998</td>\n",
              "      <td>Oxford University Press</td>\n",
              "      <td>http://images.amazon.com/images/P/0192833812.0...</td>\n",
              "    </tr>\n",
              "    <tr>\n",
              "      <th>50877</th>\n",
              "      <td>157815118X</td>\n",
              "      <td>Anna Karenina</td>\n",
              "      <td>Leo Tolstoy</td>\n",
              "      <td>2004</td>\n",
              "      <td>Media Books Audio Publishing</td>\n",
              "      <td>http://images.amazon.com/images/P/157815118X.0...</td>\n",
              "    </tr>\n",
              "    <tr>\n",
              "      <th>54588</th>\n",
              "      <td>0192815105</td>\n",
              "      <td>Anna Karenina</td>\n",
              "      <td>Leo Tolstoy</td>\n",
              "      <td>1980</td>\n",
              "      <td>Oxford University Press</td>\n",
              "      <td>http://images.amazon.com/images/P/0192815105.0...</td>\n",
              "    </tr>\n",
              "    <tr>\n",
              "      <th>72798</th>\n",
              "      <td>0670894788</td>\n",
              "      <td>Anna Karenina</td>\n",
              "      <td>Leo Tolstoy</td>\n",
              "      <td>2001</td>\n",
              "      <td>Viking Books</td>\n",
              "      <td>http://images.amazon.com/images/P/0670894788.0...</td>\n",
              "    </tr>\n",
              "    <tr>\n",
              "      <th>73181</th>\n",
              "      <td>0140440410</td>\n",
              "      <td>Anna Karenina</td>\n",
              "      <td>Leo Tolstoy</td>\n",
              "      <td>1977</td>\n",
              "      <td>Penguin Books</td>\n",
              "      <td>http://images.amazon.com/images/P/0140440410.0...</td>\n",
              "    </tr>\n",
              "    <tr>\n",
              "      <th>74471</th>\n",
              "      <td>0760706131</td>\n",
              "      <td>Anna Karenina</td>\n",
              "      <td>Leo Tolstoy</td>\n",
              "      <td>1997</td>\n",
              "      <td>Barnes &amp;amp; Noble Books</td>\n",
              "      <td>http://images.amazon.com/images/P/0760706131.0...</td>\n",
              "    </tr>\n",
              "    <tr>\n",
              "      <th>78404</th>\n",
              "      <td>0140449175</td>\n",
              "      <td>Anna Karenina</td>\n",
              "      <td>Leo Tolstoy</td>\n",
              "      <td>2003</td>\n",
              "      <td>Penguin Books Ltd</td>\n",
              "      <td>http://images.amazon.com/images/P/0140449175.0...</td>\n",
              "    </tr>\n",
              "    <tr>\n",
              "      <th>95913</th>\n",
              "      <td>0140448179</td>\n",
              "      <td>Anna Karenina</td>\n",
              "      <td>Leo Tolstoy</td>\n",
              "      <td>2002</td>\n",
              "      <td>Penguin Books Ltd</td>\n",
              "      <td>http://images.amazon.com/images/P/0140448179.0...</td>\n",
              "    </tr>\n",
              "    <tr>\n",
              "      <th>102871</th>\n",
              "      <td>0553210343</td>\n",
              "      <td>Anna Karenina</td>\n",
              "      <td>Leo Tolstoy</td>\n",
              "      <td>1981</td>\n",
              "      <td>Bantam Books</td>\n",
              "      <td>http://images.amazon.com/images/P/0553210343.0...</td>\n",
              "    </tr>\n",
              "    <tr>\n",
              "      <th>109483</th>\n",
              "      <td>0451528611</td>\n",
              "      <td>Anna Karenina</td>\n",
              "      <td>Leo Tolstoy</td>\n",
              "      <td>2002</td>\n",
              "      <td>Signet Classics</td>\n",
              "      <td>http://images.amazon.com/images/P/0451528611.0...</td>\n",
              "    </tr>\n",
              "    <tr>\n",
              "      <th>119909</th>\n",
              "      <td>1593080271</td>\n",
              "      <td>Anna Karenina</td>\n",
              "      <td>Leo Tolstoy</td>\n",
              "      <td>2003</td>\n",
              "      <td>Barnes &amp;amp; Noble Books-Imports</td>\n",
              "      <td>http://images.amazon.com/images/P/1593080271.0...</td>\n",
              "    </tr>\n",
              "    <tr>\n",
              "      <th>156479</th>\n",
              "      <td>0393966429</td>\n",
              "      <td>Anna Karenina: The Maude Translation : Backgro...</td>\n",
              "      <td>Leo Tolstoy</td>\n",
              "      <td>1995</td>\n",
              "      <td>W. W. Norton &amp;amp; Company</td>\n",
              "      <td>http://images.amazon.com/images/P/0393966429.0...</td>\n",
              "    </tr>\n",
              "    <tr>\n",
              "      <th>170860</th>\n",
              "      <td>0451519353</td>\n",
              "      <td>Anna Karenina</td>\n",
              "      <td>Leo Tolstoy</td>\n",
              "      <td>1985</td>\n",
              "      <td>Signet Book</td>\n",
              "      <td>http://images.amazon.com/images/P/0451519353.0...</td>\n",
              "    </tr>\n",
              "    <tr>\n",
              "      <th>173502</th>\n",
              "      <td>0142000272</td>\n",
              "      <td>Anna Karenina: A Novel in Eight Parts</td>\n",
              "      <td>Leo Tolstoy</td>\n",
              "      <td>2001</td>\n",
              "      <td>Penguin Books</td>\n",
              "      <td>http://images.amazon.com/images/P/0142000272.0...</td>\n",
              "    </tr>\n",
              "    <tr>\n",
              "      <th>213093</th>\n",
              "      <td>0679410007</td>\n",
              "      <td>Anna Karenina</td>\n",
              "      <td>Leo Tolstoy</td>\n",
              "      <td>1992</td>\n",
              "      <td>Alfred A. Knopf</td>\n",
              "      <td>http://images.amazon.com/images/P/0679410007.0...</td>\n",
              "    </tr>\n",
              "    <tr>\n",
              "      <th>215977</th>\n",
              "      <td>0192823655</td>\n",
              "      <td>Anna Karenina</td>\n",
              "      <td>W. Gareth Jones</td>\n",
              "      <td>1995</td>\n",
              "      <td>Oxford Univ Pr</td>\n",
              "      <td>http://images.amazon.com/images/P/0192823655.0...</td>\n",
              "    </tr>\n",
              "    <tr>\n",
              "      <th>229760</th>\n",
              "      <td>0140447237</td>\n",
              "      <td>Anna Karenina</td>\n",
              "      <td>Leo Tolstoy</td>\n",
              "      <td>2001</td>\n",
              "      <td>Penguin Books Ltd</td>\n",
              "      <td>http://images.amazon.com/images/P/0140447237.0...</td>\n",
              "    </tr>\n",
              "    <tr>\n",
              "      <th>234129</th>\n",
              "      <td>0679600795</td>\n",
              "      <td>Anna Karenina</td>\n",
              "      <td>Leo Tolstoy</td>\n",
              "      <td>1993</td>\n",
              "      <td>Modern Library</td>\n",
              "      <td>http://images.amazon.com/images/P/0679600795.0...</td>\n",
              "    </tr>\n",
              "    <tr>\n",
              "      <th>246850</th>\n",
              "      <td>8437606322</td>\n",
              "      <td>Anna Karenina</td>\n",
              "      <td>Leo Tolstoy</td>\n",
              "      <td>1999</td>\n",
              "      <td>Ediciones Catedra S.A.</td>\n",
              "      <td>http://images.amazon.com/images/P/8437606322.0...</td>\n",
              "    </tr>\n",
              "    <tr>\n",
              "      <th>270559</th>\n",
              "      <td>0451521862</td>\n",
              "      <td>Anna Karenina</td>\n",
              "      <td>Leo Tolstoy</td>\n",
              "      <td>1961</td>\n",
              "      <td>Signet Book</td>\n",
              "      <td>http://images.amazon.com/images/P/0451521862.0...</td>\n",
              "    </tr>\n",
              "  </tbody>\n",
              "</table>\n",
              "</div>"
            ],
            "text/plain": [
              "              isbn  ...                                        Image-URL-L\n",
              "6887    1853262714  ...  http://images.amazon.com/images/P/1853262714.0...\n",
              "8230    0553211714  ...  http://images.amazon.com/images/P/0553211714.0...\n",
              "14451   0451524497  ...  http://images.amazon.com/images/P/0451524497.0...\n",
              "22923   0713994606  ...  http://images.amazon.com/images/P/0713994606.0...\n",
              "28499   0143035002  ...  http://images.amazon.com/images/P/0143035002.0...\n",
              "34418   067978330X  ...  http://images.amazon.com/images/P/067978330X.0...\n",
              "36076   0553213466  ...  http://images.amazon.com/images/P/0553213466.0...\n",
              "42930   1404360700  ...  http://images.amazon.com/images/P/1404360700.0...\n",
              "46540   0192833812  ...  http://images.amazon.com/images/P/0192833812.0...\n",
              "50877   157815118X  ...  http://images.amazon.com/images/P/157815118X.0...\n",
              "54588   0192815105  ...  http://images.amazon.com/images/P/0192815105.0...\n",
              "72798   0670894788  ...  http://images.amazon.com/images/P/0670894788.0...\n",
              "73181   0140440410  ...  http://images.amazon.com/images/P/0140440410.0...\n",
              "74471   0760706131  ...  http://images.amazon.com/images/P/0760706131.0...\n",
              "78404   0140449175  ...  http://images.amazon.com/images/P/0140449175.0...\n",
              "95913   0140448179  ...  http://images.amazon.com/images/P/0140448179.0...\n",
              "102871  0553210343  ...  http://images.amazon.com/images/P/0553210343.0...\n",
              "109483  0451528611  ...  http://images.amazon.com/images/P/0451528611.0...\n",
              "119909  1593080271  ...  http://images.amazon.com/images/P/1593080271.0...\n",
              "156479  0393966429  ...  http://images.amazon.com/images/P/0393966429.0...\n",
              "170860  0451519353  ...  http://images.amazon.com/images/P/0451519353.0...\n",
              "173502  0142000272  ...  http://images.amazon.com/images/P/0142000272.0...\n",
              "213093  0679410007  ...  http://images.amazon.com/images/P/0679410007.0...\n",
              "215977  0192823655  ...  http://images.amazon.com/images/P/0192823655.0...\n",
              "229760  0140447237  ...  http://images.amazon.com/images/P/0140447237.0...\n",
              "234129  0679600795  ...  http://images.amazon.com/images/P/0679600795.0...\n",
              "246850  8437606322  ...  http://images.amazon.com/images/P/8437606322.0...\n",
              "270559  0451521862  ...  http://images.amazon.com/images/P/0451521862.0...\n",
              "\n",
              "[28 rows x 6 columns]"
            ]
          },
          "metadata": {},
          "execution_count": 22
        }
      ]
    },
    {
      "cell_type": "code",
      "metadata": {
        "colab": {
          "base_uri": "https://localhost:8080/"
        },
        "id": "FeRBL0yivWuh",
        "outputId": "fb785d04-4944-4af3-f171-c64cc9df2b44"
      },
      "source": [
        "books_info['book_title'][books_info['book_title'].str.contains(r'&amp;(?!$)')]"
      ],
      "execution_count": 23,
      "outputs": [
        {
          "output_type": "execute_result",
          "data": {
            "text/plain": [
              "23                   Mary-Kate &amp; Ashley Switching Goals\n",
              "118                                     Angels &amp; Demons\n",
              "203       The James Dean Affair: A Neil Gulliver &amp; S...\n",
              "239                                     Angels &amp; Demons\n",
              "291                     Angels &amp; Insects : Two Novellas\n",
              "                                ...                        \n",
              "271084    Flashman &amp; the Angel of the Lord: From the...\n",
              "271113    Magic... Naturally!: Science Entertainments &a...\n",
              "271235                                   Tycho &amp; Kepler\n",
              "271266                              Rough &amp; Rugged Lily\n",
              "271283    The Feelings Book: The Care &amp; Keeping of Y...\n",
              "Name: book_title, Length: 3786, dtype: object"
            ]
          },
          "metadata": {},
          "execution_count": 23
        }
      ]
    },
    {
      "cell_type": "code",
      "metadata": {
        "colab": {
          "base_uri": "https://localhost:8080/"
        },
        "id": "l8exzwItuexQ",
        "outputId": "210bb257-7f1b-4aa9-dadf-e643506a21e7"
      },
      "source": [
        "# replace html tag for ampersand &amp; by 'and'\n",
        "books_info['book_title'] = books_info['book_title'].str.replace(r'&amp;(?!$)','and')\n",
        "books_info['book_title'][books_info['book_title'].str.contains(r'&amp;(?!$)')]"
      ],
      "execution_count": 24,
      "outputs": [
        {
          "output_type": "execute_result",
          "data": {
            "text/plain": [
              "Series([], Name: book_title, dtype: object)"
            ]
          },
          "metadata": {},
          "execution_count": 24
        }
      ]
    },
    {
      "cell_type": "code",
      "metadata": {
        "colab": {
          "base_uri": "https://localhost:8080/",
          "height": 324
        },
        "id": "uBNBKK62L-px",
        "outputId": "ed0fd034-d3be-4d25-cc28-50fe6f5b4999"
      },
      "source": [
        "# there are still books with typos in their book titles and more\n",
        "books_info[books_info[\"book_title\"].str.contains(\"For Whom\")]"
      ],
      "execution_count": 25,
      "outputs": [
        {
          "output_type": "execute_result",
          "data": {
            "text/html": [
              "<div>\n",
              "<style scoped>\n",
              "    .dataframe tbody tr th:only-of-type {\n",
              "        vertical-align: middle;\n",
              "    }\n",
              "\n",
              "    .dataframe tbody tr th {\n",
              "        vertical-align: top;\n",
              "    }\n",
              "\n",
              "    .dataframe thead th {\n",
              "        text-align: right;\n",
              "    }\n",
              "</style>\n",
              "<table border=\"1\" class=\"dataframe\">\n",
              "  <thead>\n",
              "    <tr style=\"text-align: right;\">\n",
              "      <th></th>\n",
              "      <th>isbn</th>\n",
              "      <th>book_title</th>\n",
              "      <th>book_author</th>\n",
              "      <th>publication_year</th>\n",
              "      <th>publisher</th>\n",
              "      <th>Image-URL-L</th>\n",
              "    </tr>\n",
              "  </thead>\n",
              "  <tbody>\n",
              "    <tr>\n",
              "      <th>18563</th>\n",
              "      <td>0684803356</td>\n",
              "      <td>For Whom the Bell Tolls</td>\n",
              "      <td>Ernest Hemingway</td>\n",
              "      <td>1995</td>\n",
              "      <td>Scribner</td>\n",
              "      <td>http://images.amazon.com/images/P/0684803356.0...</td>\n",
              "    </tr>\n",
              "    <tr>\n",
              "      <th>29667</th>\n",
              "      <td>0020518501</td>\n",
              "      <td>For Whome the Bell Tolls</td>\n",
              "      <td>Ernest Hemingway</td>\n",
              "      <td>1987</td>\n",
              "      <td>Scribner Paper Fiction</td>\n",
              "      <td>http://images.amazon.com/images/P/0020518501.0...</td>\n",
              "    </tr>\n",
              "    <tr>\n",
              "      <th>34375</th>\n",
              "      <td>0684830485</td>\n",
              "      <td>For Whom the Bell Tolls</td>\n",
              "      <td>Ernest Hemingway</td>\n",
              "      <td>1996</td>\n",
              "      <td>Scribner</td>\n",
              "      <td>http://images.amazon.com/images/P/0684830485.0...</td>\n",
              "    </tr>\n",
              "    <tr>\n",
              "      <th>62116</th>\n",
              "      <td>0425183866</td>\n",
              "      <td>For Whom Death Tolls</td>\n",
              "      <td>Kate Kingsbury</td>\n",
              "      <td>2002</td>\n",
              "      <td>Berkley Publishing Group</td>\n",
              "      <td>http://images.amazon.com/images/P/0425183866.0...</td>\n",
              "    </tr>\n",
              "    <tr>\n",
              "      <th>128660</th>\n",
              "      <td>1890862185</td>\n",
              "      <td>For Whom the Minivan Rolls</td>\n",
              "      <td>Jeffrey Cohen</td>\n",
              "      <td>2002</td>\n",
              "      <td>Bancroft Press</td>\n",
              "      <td>http://images.amazon.com/images/P/1890862185.0...</td>\n",
              "    </tr>\n",
              "    <tr>\n",
              "      <th>132040</th>\n",
              "      <td>0684717980</td>\n",
              "      <td>For Whom the Bell Tolls</td>\n",
              "      <td>Ernest Hemingway</td>\n",
              "      <td>1940</td>\n",
              "      <td>Scribner Paper Fiction</td>\n",
              "      <td>http://images.amazon.com/images/P/0684717980.0...</td>\n",
              "    </tr>\n",
              "    <tr>\n",
              "      <th>140264</th>\n",
              "      <td>0684176602</td>\n",
              "      <td>For Whome the Bell Tolls</td>\n",
              "      <td>Ernest Hemingway</td>\n",
              "      <td>1982</td>\n",
              "      <td>Scribner Paper Fiction</td>\n",
              "      <td>http://images.amazon.com/images/P/0684176602.0...</td>\n",
              "    </tr>\n",
              "    <tr>\n",
              "      <th>199290</th>\n",
              "      <td>0413690709</td>\n",
              "      <td>For Whom Bell Tolls</td>\n",
              "      <td>Steve Bell</td>\n",
              "      <td>1994</td>\n",
              "      <td>Methuen Publishing Ltd</td>\n",
              "      <td>http://images.amazon.com/images/P/0413690709.0...</td>\n",
              "    </tr>\n",
              "    <tr>\n",
              "      <th>252385</th>\n",
              "      <td>0822004976</td>\n",
              "      <td>For Whom The Bell Tolls</td>\n",
              "      <td>LaRocque  DuBose</td>\n",
              "      <td>1965</td>\n",
              "      <td>Cliffs Notes</td>\n",
              "      <td>http://images.amazon.com/images/P/0822004976.0...</td>\n",
              "    </tr>\n",
              "  </tbody>\n",
              "</table>\n",
              "</div>"
            ],
            "text/plain": [
              "              isbn  ...                                        Image-URL-L\n",
              "18563   0684803356  ...  http://images.amazon.com/images/P/0684803356.0...\n",
              "29667   0020518501  ...  http://images.amazon.com/images/P/0020518501.0...\n",
              "34375   0684830485  ...  http://images.amazon.com/images/P/0684830485.0...\n",
              "62116   0425183866  ...  http://images.amazon.com/images/P/0425183866.0...\n",
              "128660  1890862185  ...  http://images.amazon.com/images/P/1890862185.0...\n",
              "132040  0684717980  ...  http://images.amazon.com/images/P/0684717980.0...\n",
              "140264  0684176602  ...  http://images.amazon.com/images/P/0684176602.0...\n",
              "199290  0413690709  ...  http://images.amazon.com/images/P/0413690709.0...\n",
              "252385  0822004976  ...  http://images.amazon.com/images/P/0822004976.0...\n",
              "\n",
              "[9 rows x 6 columns]"
            ]
          },
          "metadata": {},
          "execution_count": 25
        }
      ]
    },
    {
      "cell_type": "code",
      "metadata": {
        "colab": {
          "base_uri": "https://localhost:8080/",
          "height": 202
        },
        "id": "U6JdhvA23oSI",
        "outputId": "08b03203-3a28-4007-fa87-b8e35c1f691a"
      },
      "source": [
        "# there are books, published in different years, listed under different ISBN -> in the end, the same book\n",
        "books_info[books_info.book_title=='Anna Karenina'].head(5)"
      ],
      "execution_count": 26,
      "outputs": [
        {
          "output_type": "execute_result",
          "data": {
            "text/html": [
              "<div>\n",
              "<style scoped>\n",
              "    .dataframe tbody tr th:only-of-type {\n",
              "        vertical-align: middle;\n",
              "    }\n",
              "\n",
              "    .dataframe tbody tr th {\n",
              "        vertical-align: top;\n",
              "    }\n",
              "\n",
              "    .dataframe thead th {\n",
              "        text-align: right;\n",
              "    }\n",
              "</style>\n",
              "<table border=\"1\" class=\"dataframe\">\n",
              "  <thead>\n",
              "    <tr style=\"text-align: right;\">\n",
              "      <th></th>\n",
              "      <th>isbn</th>\n",
              "      <th>book_title</th>\n",
              "      <th>book_author</th>\n",
              "      <th>publication_year</th>\n",
              "      <th>publisher</th>\n",
              "      <th>Image-URL-L</th>\n",
              "    </tr>\n",
              "  </thead>\n",
              "  <tbody>\n",
              "    <tr>\n",
              "      <th>6887</th>\n",
              "      <td>1853262714</td>\n",
              "      <td>Anna Karenina</td>\n",
              "      <td>Leo Tolstoy</td>\n",
              "      <td>1997</td>\n",
              "      <td>NTC/Contemporary Publishing Company</td>\n",
              "      <td>http://images.amazon.com/images/P/1853262714.0...</td>\n",
              "    </tr>\n",
              "    <tr>\n",
              "      <th>8230</th>\n",
              "      <td>0553211714</td>\n",
              "      <td>Anna Karenina</td>\n",
              "      <td>Leo Tolstoy</td>\n",
              "      <td>1984</td>\n",
              "      <td>Bantam</td>\n",
              "      <td>http://images.amazon.com/images/P/0553211714.0...</td>\n",
              "    </tr>\n",
              "    <tr>\n",
              "      <th>14451</th>\n",
              "      <td>0451524497</td>\n",
              "      <td>Anna Karenina</td>\n",
              "      <td>Leo Tolstoy</td>\n",
              "      <td>1988</td>\n",
              "      <td>Penguin Books</td>\n",
              "      <td>http://images.amazon.com/images/P/0451524497.0...</td>\n",
              "    </tr>\n",
              "    <tr>\n",
              "      <th>22923</th>\n",
              "      <td>0713994606</td>\n",
              "      <td>Anna Karenina</td>\n",
              "      <td>Leo Tolstoy</td>\n",
              "      <td>2000</td>\n",
              "      <td>Viking</td>\n",
              "      <td>http://images.amazon.com/images/P/0713994606.0...</td>\n",
              "    </tr>\n",
              "    <tr>\n",
              "      <th>28499</th>\n",
              "      <td>0143035002</td>\n",
              "      <td>Anna Karenina</td>\n",
              "      <td>Leo Tolstoy</td>\n",
              "      <td>2004</td>\n",
              "      <td>Penguin Books</td>\n",
              "      <td>http://images.amazon.com/images/P/0143035002.0...</td>\n",
              "    </tr>\n",
              "  </tbody>\n",
              "</table>\n",
              "</div>"
            ],
            "text/plain": [
              "             isbn  ...                                        Image-URL-L\n",
              "6887   1853262714  ...  http://images.amazon.com/images/P/1853262714.0...\n",
              "8230   0553211714  ...  http://images.amazon.com/images/P/0553211714.0...\n",
              "14451  0451524497  ...  http://images.amazon.com/images/P/0451524497.0...\n",
              "22923  0713994606  ...  http://images.amazon.com/images/P/0713994606.0...\n",
              "28499  0143035002  ...  http://images.amazon.com/images/P/0143035002.0...\n",
              "\n",
              "[5 rows x 6 columns]"
            ]
          },
          "metadata": {},
          "execution_count": 26
        }
      ]
    },
    {
      "cell_type": "code",
      "metadata": {
        "colab": {
          "base_uri": "https://localhost:8080/"
        },
        "id": "7FLHd4-VzJc4",
        "outputId": "2e351ab2-4e99-4de7-8e11-5a8c27b3ce4c"
      },
      "source": [
        "# count ISBN codes, given the book_title\n",
        "multiple_isbn = books_info.groupby('book_title').isbn.nunique()\n",
        "print(multiple_isbn.value_counts())"
      ],
      "execution_count": 27,
      "outputs": [
        {
          "output_type": "stream",
          "name": "stdout",
          "text": [
            "1     199407\n",
            "2      19202\n",
            "3       4270\n",
            "4       1605\n",
            "5        754\n",
            "6        421\n",
            "7        239\n",
            "8        150\n",
            "9         97\n",
            "10        55\n",
            "11        40\n",
            "12        38\n",
            "13        28\n",
            "14        22\n",
            "15        15\n",
            "18        11\n",
            "16        10\n",
            "17         8\n",
            "19         7\n",
            "26         6\n",
            "20         4\n",
            "22         3\n",
            "30         3\n",
            "23         2\n",
            "24         2\n",
            "25         2\n",
            "48         2\n",
            "44         2\n",
            "34         2\n",
            "21         1\n",
            "37         1\n",
            "47         1\n",
            "46         1\n",
            "41         1\n",
            "38         1\n",
            "33         1\n",
            "35         1\n",
            "50         1\n",
            "31         1\n",
            "29         1\n",
            "28         1\n",
            "27         1\n",
            "53         1\n",
            "Name: isbn, dtype: int64\n"
          ]
        }
      ]
    },
    {
      "cell_type": "code",
      "metadata": {
        "colab": {
          "base_uri": "https://localhost:8080/"
        },
        "id": "m7wZcb4I38DN",
        "outputId": "ff875828-fc13-41ec-d9f3-0b2ab30e1f13"
      },
      "source": [
        "books_w_multiple_isbn = multiple_isbn.where(\n",
        "    multiple_isbn > 1\n",
        "    )\n",
        "\n",
        "books_w_multiple_isbn.dropna(\n",
        "    inplace = True\n",
        "    )\n",
        "\n",
        "print(f'{len(books_w_multiple_isbn)} book titles have multiple ISBN codes -> assign a unique identifier.')"
      ],
      "execution_count": 28,
      "outputs": [
        {
          "output_type": "stream",
          "name": "stdout",
          "text": [
            "27014 book titles have multiple ISBN codes -> assign a unique identifier.\n"
          ]
        }
      ]
    },
    {
      "cell_type": "code",
      "metadata": {
        "colab": {
          "base_uri": "https://localhost:8080/"
        },
        "id": "iwKH-Fuk5Qv4",
        "outputId": "449c074f-6d5d-4cea-a2d6-4e7203fee6eb"
      },
      "source": [
        "# Create dictionary for books with multiple isbns\n",
        "def multiple_isbn_dict(book_df, isbn_df):\n",
        "    title_isbn_dict = {}\n",
        "    for title in isbn_df.index:\n",
        "        isbn_series = book_df.loc[book_df.book_title == title].isbn.unique()\n",
        "        title_isbn_dict[title] = isbn_series.tolist()\n",
        "    return title_isbn_dict\n",
        "\n",
        "%time dict_unique_isbn = multiple_isbn_dict(books_info, books_w_multiple_isbn)"
      ],
      "execution_count": 29,
      "outputs": [
        {
          "output_type": "stream",
          "name": "stdout",
          "text": [
            "CPU times: user 8min 38s, sys: 1.94 s, total: 8min 40s\n",
            "Wall time: 8min 40s\n"
          ]
        }
      ]
    },
    {
      "cell_type": "code",
      "metadata": {
        "colab": {
          "base_uri": "https://localhost:8080/"
        },
        "id": "awfdVwxL3het",
        "outputId": "0b0e0174-a6a7-4eaf-a2c9-fadf55b293ab"
      },
      "source": [
        "print(f'''Book 'Anna Karenina' has {len(dict_unique_isbn[\"Anna Karenina\"])} different ISBN codes.''')"
      ],
      "execution_count": 30,
      "outputs": [
        {
          "output_type": "stream",
          "name": "stdout",
          "text": [
            "Book 'Anna Karenina' has 26 different ISBN codes.\n"
          ]
        }
      ]
    },
    {
      "cell_type": "code",
      "metadata": {
        "id": "sewJHazr6Emn"
      },
      "source": [
        "# add unique isbn column to the dataframe\n",
        "def add_unique_isbn_col(df, isbn_dict):\n",
        "    new_df = df.copy()\n",
        "    new_df['isbn_unique'] = df.apply(\n",
        "        lambda row: isbn_dict[row.book_title][0] if row.book_title in isbn_dict.keys() else row.isbn, \n",
        "        axis=1\n",
        "        )\n",
        "    return new_df\n",
        "\n",
        "books_info_unique = add_unique_isbn_col(books_info, dict_unique_isbn)"
      ],
      "execution_count": 31,
      "outputs": []
    },
    {
      "cell_type": "code",
      "metadata": {
        "colab": {
          "base_uri": "https://localhost:8080/",
          "height": 285
        },
        "id": "OBJv3aOH71d1",
        "outputId": "27faac88-3aa0-4f76-ff07-a93f150d519d"
      },
      "source": [
        "books_info_unique[books_info_unique.book_title=='Anna Karenina'].head(5)"
      ],
      "execution_count": 32,
      "outputs": [
        {
          "output_type": "execute_result",
          "data": {
            "text/html": [
              "<div>\n",
              "<style scoped>\n",
              "    .dataframe tbody tr th:only-of-type {\n",
              "        vertical-align: middle;\n",
              "    }\n",
              "\n",
              "    .dataframe tbody tr th {\n",
              "        vertical-align: top;\n",
              "    }\n",
              "\n",
              "    .dataframe thead th {\n",
              "        text-align: right;\n",
              "    }\n",
              "</style>\n",
              "<table border=\"1\" class=\"dataframe\">\n",
              "  <thead>\n",
              "    <tr style=\"text-align: right;\">\n",
              "      <th></th>\n",
              "      <th>isbn</th>\n",
              "      <th>book_title</th>\n",
              "      <th>book_author</th>\n",
              "      <th>publication_year</th>\n",
              "      <th>publisher</th>\n",
              "      <th>Image-URL-L</th>\n",
              "      <th>isbn_unique</th>\n",
              "    </tr>\n",
              "  </thead>\n",
              "  <tbody>\n",
              "    <tr>\n",
              "      <th>6887</th>\n",
              "      <td>1853262714</td>\n",
              "      <td>Anna Karenina</td>\n",
              "      <td>Leo Tolstoy</td>\n",
              "      <td>1997</td>\n",
              "      <td>NTC/Contemporary Publishing Company</td>\n",
              "      <td>http://images.amazon.com/images/P/1853262714.0...</td>\n",
              "      <td>1853262714</td>\n",
              "    </tr>\n",
              "    <tr>\n",
              "      <th>8230</th>\n",
              "      <td>0553211714</td>\n",
              "      <td>Anna Karenina</td>\n",
              "      <td>Leo Tolstoy</td>\n",
              "      <td>1984</td>\n",
              "      <td>Bantam</td>\n",
              "      <td>http://images.amazon.com/images/P/0553211714.0...</td>\n",
              "      <td>1853262714</td>\n",
              "    </tr>\n",
              "    <tr>\n",
              "      <th>14451</th>\n",
              "      <td>0451524497</td>\n",
              "      <td>Anna Karenina</td>\n",
              "      <td>Leo Tolstoy</td>\n",
              "      <td>1988</td>\n",
              "      <td>Penguin Books</td>\n",
              "      <td>http://images.amazon.com/images/P/0451524497.0...</td>\n",
              "      <td>1853262714</td>\n",
              "    </tr>\n",
              "    <tr>\n",
              "      <th>22923</th>\n",
              "      <td>0713994606</td>\n",
              "      <td>Anna Karenina</td>\n",
              "      <td>Leo Tolstoy</td>\n",
              "      <td>2000</td>\n",
              "      <td>Viking</td>\n",
              "      <td>http://images.amazon.com/images/P/0713994606.0...</td>\n",
              "      <td>1853262714</td>\n",
              "    </tr>\n",
              "    <tr>\n",
              "      <th>28499</th>\n",
              "      <td>0143035002</td>\n",
              "      <td>Anna Karenina</td>\n",
              "      <td>Leo Tolstoy</td>\n",
              "      <td>2004</td>\n",
              "      <td>Penguin Books</td>\n",
              "      <td>http://images.amazon.com/images/P/0143035002.0...</td>\n",
              "      <td>1853262714</td>\n",
              "    </tr>\n",
              "  </tbody>\n",
              "</table>\n",
              "</div>"
            ],
            "text/plain": [
              "             isbn  ... isbn_unique\n",
              "6887   1853262714  ...  1853262714\n",
              "8230   0553211714  ...  1853262714\n",
              "14451  0451524497  ...  1853262714\n",
              "22923  0713994606  ...  1853262714\n",
              "28499  0143035002  ...  1853262714\n",
              "\n",
              "[5 rows x 7 columns]"
            ]
          },
          "metadata": {},
          "execution_count": 32
        }
      ]
    },
    {
      "cell_type": "code",
      "metadata": {
        "id": "gjPenl8HqgXC"
      },
      "source": [
        "#books_info_unique.to_csv( 'book_info_unique.csv', index = False)"
      ],
      "execution_count": 33,
      "outputs": []
    },
    {
      "cell_type": "markdown",
      "metadata": {
        "id": "j1g_gJM5afJc"
      },
      "source": [
        "## 2.3 Create Main Df"
      ]
    },
    {
      "cell_type": "markdown",
      "metadata": {
        "id": "tSrHA28z9zec"
      },
      "source": [
        "### 2.3.1 main_df_all"
      ]
    },
    {
      "cell_type": "code",
      "metadata": {
        "colab": {
          "base_uri": "https://localhost:8080/",
          "height": 373
        },
        "id": "DtSTw6FyjnOC",
        "outputId": "12751670-d37a-4030-ea36-11ef06391fe3"
      },
      "source": [
        "main_df_all = pd.merge(ratings, books_info_unique, on=['isbn'])\n",
        "main_df_all = pd.merge(main_df_all, users_info, on=['user_id'])\n",
        "print(f'Df all size: {main_df_all.shape[0]} entries.')\n",
        "main_df_all.head(5)"
      ],
      "execution_count": 34,
      "outputs": [
        {
          "output_type": "stream",
          "name": "stdout",
          "text": [
            "Df all size: 1031132 entries.\n"
          ]
        },
        {
          "output_type": "execute_result",
          "data": {
            "text/html": [
              "<div>\n",
              "<style scoped>\n",
              "    .dataframe tbody tr th:only-of-type {\n",
              "        vertical-align: middle;\n",
              "    }\n",
              "\n",
              "    .dataframe tbody tr th {\n",
              "        vertical-align: top;\n",
              "    }\n",
              "\n",
              "    .dataframe thead th {\n",
              "        text-align: right;\n",
              "    }\n",
              "</style>\n",
              "<table border=\"1\" class=\"dataframe\">\n",
              "  <thead>\n",
              "    <tr style=\"text-align: right;\">\n",
              "      <th></th>\n",
              "      <th>user_id</th>\n",
              "      <th>isbn</th>\n",
              "      <th>book_rating</th>\n",
              "      <th>book_title</th>\n",
              "      <th>book_author</th>\n",
              "      <th>publication_year</th>\n",
              "      <th>publisher</th>\n",
              "      <th>Image-URL-L</th>\n",
              "      <th>isbn_unique</th>\n",
              "      <th>age</th>\n",
              "      <th>city</th>\n",
              "      <th>state</th>\n",
              "      <th>country</th>\n",
              "    </tr>\n",
              "  </thead>\n",
              "  <tbody>\n",
              "    <tr>\n",
              "      <th>0</th>\n",
              "      <td>276725</td>\n",
              "      <td>034545104X</td>\n",
              "      <td>0</td>\n",
              "      <td>Flesh Tones: A Novel</td>\n",
              "      <td>M. J. Rose</td>\n",
              "      <td>2002</td>\n",
              "      <td>Ballantine Books</td>\n",
              "      <td>http://images.amazon.com/images/P/034545104X.0...</td>\n",
              "      <td>034545104X</td>\n",
              "      <td>34.863441</td>\n",
              "      <td>tyler</td>\n",
              "      <td>texas</td>\n",
              "      <td>usa</td>\n",
              "    </tr>\n",
              "    <tr>\n",
              "      <th>1</th>\n",
              "      <td>2313</td>\n",
              "      <td>034545104X</td>\n",
              "      <td>5</td>\n",
              "      <td>Flesh Tones: A Novel</td>\n",
              "      <td>M. J. Rose</td>\n",
              "      <td>2002</td>\n",
              "      <td>Ballantine Books</td>\n",
              "      <td>http://images.amazon.com/images/P/034545104X.0...</td>\n",
              "      <td>034545104X</td>\n",
              "      <td>23.000000</td>\n",
              "      <td>cincinnati</td>\n",
              "      <td>ohio</td>\n",
              "      <td>usa</td>\n",
              "    </tr>\n",
              "    <tr>\n",
              "      <th>2</th>\n",
              "      <td>2313</td>\n",
              "      <td>0812533550</td>\n",
              "      <td>9</td>\n",
              "      <td>Ender's Game</td>\n",
              "      <td>Orson Scott Card</td>\n",
              "      <td>1986</td>\n",
              "      <td>Tor Books</td>\n",
              "      <td>http://images.amazon.com/images/P/0812533550.0...</td>\n",
              "      <td>0312853238</td>\n",
              "      <td>23.000000</td>\n",
              "      <td>cincinnati</td>\n",
              "      <td>ohio</td>\n",
              "      <td>usa</td>\n",
              "    </tr>\n",
              "    <tr>\n",
              "      <th>3</th>\n",
              "      <td>2313</td>\n",
              "      <td>0679745580</td>\n",
              "      <td>8</td>\n",
              "      <td>In Cold Blood</td>\n",
              "      <td>TRUMAN CAPOTE</td>\n",
              "      <td>1994</td>\n",
              "      <td>Vintage</td>\n",
              "      <td>http://images.amazon.com/images/P/0679745580.0...</td>\n",
              "      <td>0679745580</td>\n",
              "      <td>23.000000</td>\n",
              "      <td>cincinnati</td>\n",
              "      <td>ohio</td>\n",
              "      <td>usa</td>\n",
              "    </tr>\n",
              "    <tr>\n",
              "      <th>4</th>\n",
              "      <td>2313</td>\n",
              "      <td>0060173289</td>\n",
              "      <td>9</td>\n",
              "      <td>Divine Secrets of the Ya-Ya Sisterhood : A Novel</td>\n",
              "      <td>Rebecca Wells</td>\n",
              "      <td>1996</td>\n",
              "      <td>HarperCollins</td>\n",
              "      <td>http://images.amazon.com/images/P/0060173289.0...</td>\n",
              "      <td>0060173289</td>\n",
              "      <td>23.000000</td>\n",
              "      <td>cincinnati</td>\n",
              "      <td>ohio</td>\n",
              "      <td>usa</td>\n",
              "    </tr>\n",
              "  </tbody>\n",
              "</table>\n",
              "</div>"
            ],
            "text/plain": [
              "   user_id        isbn  book_rating  ...        city   state  country\n",
              "0   276725  034545104X            0  ...       tyler   texas      usa\n",
              "1     2313  034545104X            5  ...  cincinnati    ohio      usa\n",
              "2     2313  0812533550            9  ...  cincinnati    ohio      usa\n",
              "3     2313  0679745580            8  ...  cincinnati    ohio      usa\n",
              "4     2313  0060173289            9  ...  cincinnati    ohio      usa\n",
              "\n",
              "[5 rows x 13 columns]"
            ]
          },
          "metadata": {},
          "execution_count": 34
        }
      ]
    },
    {
      "cell_type": "code",
      "metadata": {
        "colab": {
          "base_uri": "https://localhost:8080/",
          "height": 447
        },
        "id": "_yRFN9uIP5ri",
        "outputId": "21c71f64-221e-49ba-a2a5-74cdbb4ce0e0"
      },
      "source": [
        "get_missing_values(main_df_all)"
      ],
      "execution_count": 35,
      "outputs": [
        {
          "output_type": "execute_result",
          "data": {
            "text/html": [
              "<div>\n",
              "<style scoped>\n",
              "    .dataframe tbody tr th:only-of-type {\n",
              "        vertical-align: middle;\n",
              "    }\n",
              "\n",
              "    .dataframe tbody tr th {\n",
              "        vertical-align: top;\n",
              "    }\n",
              "\n",
              "    .dataframe thead th {\n",
              "        text-align: right;\n",
              "    }\n",
              "</style>\n",
              "<table border=\"1\" class=\"dataframe\">\n",
              "  <thead>\n",
              "    <tr style=\"text-align: right;\">\n",
              "      <th></th>\n",
              "      <th>Total</th>\n",
              "      <th>Percent</th>\n",
              "    </tr>\n",
              "  </thead>\n",
              "  <tbody>\n",
              "    <tr>\n",
              "      <th>publisher</th>\n",
              "      <td>2</td>\n",
              "      <td>0.000194</td>\n",
              "    </tr>\n",
              "    <tr>\n",
              "      <th>book_author</th>\n",
              "      <td>1</td>\n",
              "      <td>0.000097</td>\n",
              "    </tr>\n",
              "    <tr>\n",
              "      <th>user_id</th>\n",
              "      <td>0</td>\n",
              "      <td>0.000000</td>\n",
              "    </tr>\n",
              "    <tr>\n",
              "      <th>isbn</th>\n",
              "      <td>0</td>\n",
              "      <td>0.000000</td>\n",
              "    </tr>\n",
              "    <tr>\n",
              "      <th>book_rating</th>\n",
              "      <td>0</td>\n",
              "      <td>0.000000</td>\n",
              "    </tr>\n",
              "    <tr>\n",
              "      <th>book_title</th>\n",
              "      <td>0</td>\n",
              "      <td>0.000000</td>\n",
              "    </tr>\n",
              "    <tr>\n",
              "      <th>publication_year</th>\n",
              "      <td>0</td>\n",
              "      <td>0.000000</td>\n",
              "    </tr>\n",
              "    <tr>\n",
              "      <th>Image-URL-L</th>\n",
              "      <td>0</td>\n",
              "      <td>0.000000</td>\n",
              "    </tr>\n",
              "    <tr>\n",
              "      <th>isbn_unique</th>\n",
              "      <td>0</td>\n",
              "      <td>0.000000</td>\n",
              "    </tr>\n",
              "    <tr>\n",
              "      <th>age</th>\n",
              "      <td>0</td>\n",
              "      <td>0.000000</td>\n",
              "    </tr>\n",
              "    <tr>\n",
              "      <th>city</th>\n",
              "      <td>0</td>\n",
              "      <td>0.000000</td>\n",
              "    </tr>\n",
              "    <tr>\n",
              "      <th>state</th>\n",
              "      <td>0</td>\n",
              "      <td>0.000000</td>\n",
              "    </tr>\n",
              "    <tr>\n",
              "      <th>country</th>\n",
              "      <td>0</td>\n",
              "      <td>0.000000</td>\n",
              "    </tr>\n",
              "  </tbody>\n",
              "</table>\n",
              "</div>"
            ],
            "text/plain": [
              "                  Total   Percent\n",
              "publisher             2  0.000194\n",
              "book_author           1  0.000097\n",
              "user_id               0  0.000000\n",
              "isbn                  0  0.000000\n",
              "book_rating           0  0.000000\n",
              "book_title            0  0.000000\n",
              "publication_year      0  0.000000\n",
              "Image-URL-L           0  0.000000\n",
              "isbn_unique           0  0.000000\n",
              "age                   0  0.000000\n",
              "city                  0  0.000000\n",
              "state                 0  0.000000\n",
              "country               0  0.000000"
            ]
          },
          "metadata": {},
          "execution_count": 35
        }
      ]
    },
    {
      "cell_type": "code",
      "metadata": {
        "colab": {
          "base_uri": "https://localhost:8080/",
          "height": 244
        },
        "id": "BpW3qJWfiSJQ",
        "outputId": "c2ca3dcc-8d9d-42df-fd5f-3861e841dd98"
      },
      "source": [
        "main_df_all[main_df_all.loc[:,['book_author','publisher']].isnull().any(axis='columns')]"
      ],
      "execution_count": 36,
      "outputs": [
        {
          "output_type": "execute_result",
          "data": {
            "text/html": [
              "<div>\n",
              "<style scoped>\n",
              "    .dataframe tbody tr th:only-of-type {\n",
              "        vertical-align: middle;\n",
              "    }\n",
              "\n",
              "    .dataframe tbody tr th {\n",
              "        vertical-align: top;\n",
              "    }\n",
              "\n",
              "    .dataframe thead th {\n",
              "        text-align: right;\n",
              "    }\n",
              "</style>\n",
              "<table border=\"1\" class=\"dataframe\">\n",
              "  <thead>\n",
              "    <tr style=\"text-align: right;\">\n",
              "      <th></th>\n",
              "      <th>user_id</th>\n",
              "      <th>isbn</th>\n",
              "      <th>book_rating</th>\n",
              "      <th>book_title</th>\n",
              "      <th>book_author</th>\n",
              "      <th>publication_year</th>\n",
              "      <th>publisher</th>\n",
              "      <th>Image-URL-L</th>\n",
              "      <th>isbn_unique</th>\n",
              "      <th>age</th>\n",
              "      <th>city</th>\n",
              "      <th>state</th>\n",
              "      <th>country</th>\n",
              "    </tr>\n",
              "  </thead>\n",
              "  <tbody>\n",
              "    <tr>\n",
              "      <th>9777</th>\n",
              "      <td>98391</td>\n",
              "      <td>193169656X</td>\n",
              "      <td>9</td>\n",
              "      <td>Tyrant Moon</td>\n",
              "      <td>Elaine Corvidae</td>\n",
              "      <td>2002</td>\n",
              "      <td>NaN</td>\n",
              "      <td>http://images.amazon.com/images/P/193169656X.0...</td>\n",
              "      <td>193169656X</td>\n",
              "      <td>52.0</td>\n",
              "      <td>morrow</td>\n",
              "      <td>georgia</td>\n",
              "      <td>usa</td>\n",
              "    </tr>\n",
              "    <tr>\n",
              "      <th>9786</th>\n",
              "      <td>98391</td>\n",
              "      <td>1931696993</td>\n",
              "      <td>9</td>\n",
              "      <td>Finders Keepers</td>\n",
              "      <td>Linnea Sinclair</td>\n",
              "      <td>2001</td>\n",
              "      <td>NaN</td>\n",
              "      <td>http://images.amazon.com/images/P/1931696993.0...</td>\n",
              "      <td>082177364X</td>\n",
              "      <td>52.0</td>\n",
              "      <td>morrow</td>\n",
              "      <td>georgia</td>\n",
              "      <td>usa</td>\n",
              "    </tr>\n",
              "    <tr>\n",
              "      <th>486483</th>\n",
              "      <td>98647</td>\n",
              "      <td>9627982032</td>\n",
              "      <td>8</td>\n",
              "      <td>The Credit Suisse Guide to Managing Your Perso...</td>\n",
              "      <td>NaN</td>\n",
              "      <td>1995</td>\n",
              "      <td>Edinburgh Financial Publishing</td>\n",
              "      <td>http://images.amazon.com/images/P/9627982032.0...</td>\n",
              "      <td>9627982032</td>\n",
              "      <td>26.0</td>\n",
              "      <td>selayang</td>\n",
              "      <td>selangor</td>\n",
              "      <td>malaysia</td>\n",
              "    </tr>\n",
              "  </tbody>\n",
              "</table>\n",
              "</div>"
            ],
            "text/plain": [
              "        user_id        isbn  book_rating  ...      city      state    country\n",
              "9777      98391  193169656X            9  ...    morrow    georgia        usa\n",
              "9786      98391  1931696993            9  ...    morrow    georgia        usa\n",
              "486483    98647  9627982032            8  ...  selayang   selangor   malaysia\n",
              "\n",
              "[3 rows x 13 columns]"
            ]
          },
          "metadata": {},
          "execution_count": 36
        }
      ]
    },
    {
      "cell_type": "code",
      "metadata": {
        "colab": {
          "base_uri": "https://localhost:8080/",
          "height": 447
        },
        "id": "0fup1dcKXlwh",
        "outputId": "13467e9d-9245-44ea-f7ed-86b83a534750"
      },
      "source": [
        "main_df_all['book_author'] = main_df_all['book_author'].fillna('Other')\n",
        "main_df_all['publisher'] = main_df_all['publisher'].fillna('Other')\n",
        "\n",
        "get_missing_values(main_df_all)"
      ],
      "execution_count": 37,
      "outputs": [
        {
          "output_type": "execute_result",
          "data": {
            "text/html": [
              "<div>\n",
              "<style scoped>\n",
              "    .dataframe tbody tr th:only-of-type {\n",
              "        vertical-align: middle;\n",
              "    }\n",
              "\n",
              "    .dataframe tbody tr th {\n",
              "        vertical-align: top;\n",
              "    }\n",
              "\n",
              "    .dataframe thead th {\n",
              "        text-align: right;\n",
              "    }\n",
              "</style>\n",
              "<table border=\"1\" class=\"dataframe\">\n",
              "  <thead>\n",
              "    <tr style=\"text-align: right;\">\n",
              "      <th></th>\n",
              "      <th>Total</th>\n",
              "      <th>Percent</th>\n",
              "    </tr>\n",
              "  </thead>\n",
              "  <tbody>\n",
              "    <tr>\n",
              "      <th>user_id</th>\n",
              "      <td>0</td>\n",
              "      <td>0.0</td>\n",
              "    </tr>\n",
              "    <tr>\n",
              "      <th>isbn</th>\n",
              "      <td>0</td>\n",
              "      <td>0.0</td>\n",
              "    </tr>\n",
              "    <tr>\n",
              "      <th>book_rating</th>\n",
              "      <td>0</td>\n",
              "      <td>0.0</td>\n",
              "    </tr>\n",
              "    <tr>\n",
              "      <th>book_title</th>\n",
              "      <td>0</td>\n",
              "      <td>0.0</td>\n",
              "    </tr>\n",
              "    <tr>\n",
              "      <th>book_author</th>\n",
              "      <td>0</td>\n",
              "      <td>0.0</td>\n",
              "    </tr>\n",
              "    <tr>\n",
              "      <th>publication_year</th>\n",
              "      <td>0</td>\n",
              "      <td>0.0</td>\n",
              "    </tr>\n",
              "    <tr>\n",
              "      <th>publisher</th>\n",
              "      <td>0</td>\n",
              "      <td>0.0</td>\n",
              "    </tr>\n",
              "    <tr>\n",
              "      <th>Image-URL-L</th>\n",
              "      <td>0</td>\n",
              "      <td>0.0</td>\n",
              "    </tr>\n",
              "    <tr>\n",
              "      <th>isbn_unique</th>\n",
              "      <td>0</td>\n",
              "      <td>0.0</td>\n",
              "    </tr>\n",
              "    <tr>\n",
              "      <th>age</th>\n",
              "      <td>0</td>\n",
              "      <td>0.0</td>\n",
              "    </tr>\n",
              "    <tr>\n",
              "      <th>city</th>\n",
              "      <td>0</td>\n",
              "      <td>0.0</td>\n",
              "    </tr>\n",
              "    <tr>\n",
              "      <th>state</th>\n",
              "      <td>0</td>\n",
              "      <td>0.0</td>\n",
              "    </tr>\n",
              "    <tr>\n",
              "      <th>country</th>\n",
              "      <td>0</td>\n",
              "      <td>0.0</td>\n",
              "    </tr>\n",
              "  </tbody>\n",
              "</table>\n",
              "</div>"
            ],
            "text/plain": [
              "                  Total  Percent\n",
              "user_id               0      0.0\n",
              "isbn                  0      0.0\n",
              "book_rating           0      0.0\n",
              "book_title            0      0.0\n",
              "book_author           0      0.0\n",
              "publication_year      0      0.0\n",
              "publisher             0      0.0\n",
              "Image-URL-L           0      0.0\n",
              "isbn_unique           0      0.0\n",
              "age                   0      0.0\n",
              "city                  0      0.0\n",
              "state                 0      0.0\n",
              "country               0      0.0"
            ]
          },
          "metadata": {},
          "execution_count": 37
        }
      ]
    },
    {
      "cell_type": "markdown",
      "metadata": {
        "id": "x4_yRfpL95Wf"
      },
      "source": [
        "### 2.3.2 main_df_explicit"
      ]
    },
    {
      "cell_type": "code",
      "metadata": {
        "colab": {
          "base_uri": "https://localhost:8080/",
          "height": 390
        },
        "id": "I8ToUn3LJUdi",
        "outputId": "13306ef5-0082-492d-eca9-b51fea531e33"
      },
      "source": [
        "main_df_explicit = main_df_all[ (main_df_all['book_rating'] != 0) ]\n",
        "print(f'Df explicit size: {main_df_explicit.shape[0]} entries.')\n",
        "main_df_explicit.head(5)"
      ],
      "execution_count": 38,
      "outputs": [
        {
          "output_type": "stream",
          "name": "stdout",
          "text": [
            "Df explicit size: 383841 entries.\n"
          ]
        },
        {
          "output_type": "execute_result",
          "data": {
            "text/html": [
              "<div>\n",
              "<style scoped>\n",
              "    .dataframe tbody tr th:only-of-type {\n",
              "        vertical-align: middle;\n",
              "    }\n",
              "\n",
              "    .dataframe tbody tr th {\n",
              "        vertical-align: top;\n",
              "    }\n",
              "\n",
              "    .dataframe thead th {\n",
              "        text-align: right;\n",
              "    }\n",
              "</style>\n",
              "<table border=\"1\" class=\"dataframe\">\n",
              "  <thead>\n",
              "    <tr style=\"text-align: right;\">\n",
              "      <th></th>\n",
              "      <th>user_id</th>\n",
              "      <th>isbn</th>\n",
              "      <th>book_rating</th>\n",
              "      <th>book_title</th>\n",
              "      <th>book_author</th>\n",
              "      <th>publication_year</th>\n",
              "      <th>publisher</th>\n",
              "      <th>Image-URL-L</th>\n",
              "      <th>isbn_unique</th>\n",
              "      <th>age</th>\n",
              "      <th>city</th>\n",
              "      <th>state</th>\n",
              "      <th>country</th>\n",
              "    </tr>\n",
              "  </thead>\n",
              "  <tbody>\n",
              "    <tr>\n",
              "      <th>1</th>\n",
              "      <td>2313</td>\n",
              "      <td>034545104X</td>\n",
              "      <td>5</td>\n",
              "      <td>Flesh Tones: A Novel</td>\n",
              "      <td>M. J. Rose</td>\n",
              "      <td>2002</td>\n",
              "      <td>Ballantine Books</td>\n",
              "      <td>http://images.amazon.com/images/P/034545104X.0...</td>\n",
              "      <td>034545104X</td>\n",
              "      <td>23.0</td>\n",
              "      <td>cincinnati</td>\n",
              "      <td>ohio</td>\n",
              "      <td>usa</td>\n",
              "    </tr>\n",
              "    <tr>\n",
              "      <th>2</th>\n",
              "      <td>2313</td>\n",
              "      <td>0812533550</td>\n",
              "      <td>9</td>\n",
              "      <td>Ender's Game</td>\n",
              "      <td>Orson Scott Card</td>\n",
              "      <td>1986</td>\n",
              "      <td>Tor Books</td>\n",
              "      <td>http://images.amazon.com/images/P/0812533550.0...</td>\n",
              "      <td>0312853238</td>\n",
              "      <td>23.0</td>\n",
              "      <td>cincinnati</td>\n",
              "      <td>ohio</td>\n",
              "      <td>usa</td>\n",
              "    </tr>\n",
              "    <tr>\n",
              "      <th>3</th>\n",
              "      <td>2313</td>\n",
              "      <td>0679745580</td>\n",
              "      <td>8</td>\n",
              "      <td>In Cold Blood</td>\n",
              "      <td>TRUMAN CAPOTE</td>\n",
              "      <td>1994</td>\n",
              "      <td>Vintage</td>\n",
              "      <td>http://images.amazon.com/images/P/0679745580.0...</td>\n",
              "      <td>0679745580</td>\n",
              "      <td>23.0</td>\n",
              "      <td>cincinnati</td>\n",
              "      <td>ohio</td>\n",
              "      <td>usa</td>\n",
              "    </tr>\n",
              "    <tr>\n",
              "      <th>4</th>\n",
              "      <td>2313</td>\n",
              "      <td>0060173289</td>\n",
              "      <td>9</td>\n",
              "      <td>Divine Secrets of the Ya-Ya Sisterhood : A Novel</td>\n",
              "      <td>Rebecca Wells</td>\n",
              "      <td>1996</td>\n",
              "      <td>HarperCollins</td>\n",
              "      <td>http://images.amazon.com/images/P/0060173289.0...</td>\n",
              "      <td>0060173289</td>\n",
              "      <td>23.0</td>\n",
              "      <td>cincinnati</td>\n",
              "      <td>ohio</td>\n",
              "      <td>usa</td>\n",
              "    </tr>\n",
              "    <tr>\n",
              "      <th>5</th>\n",
              "      <td>2313</td>\n",
              "      <td>0385482388</td>\n",
              "      <td>5</td>\n",
              "      <td>The Mistress of Spices</td>\n",
              "      <td>Chitra Banerjee Divakaruni</td>\n",
              "      <td>1998</td>\n",
              "      <td>Anchor Books/Doubleday</td>\n",
              "      <td>http://images.amazon.com/images/P/0385482388.0...</td>\n",
              "      <td>0385482388</td>\n",
              "      <td>23.0</td>\n",
              "      <td>cincinnati</td>\n",
              "      <td>ohio</td>\n",
              "      <td>usa</td>\n",
              "    </tr>\n",
              "  </tbody>\n",
              "</table>\n",
              "</div>"
            ],
            "text/plain": [
              "   user_id        isbn  book_rating  ...        city  state  country\n",
              "1     2313  034545104X            5  ...  cincinnati   ohio      usa\n",
              "2     2313  0812533550            9  ...  cincinnati   ohio      usa\n",
              "3     2313  0679745580            8  ...  cincinnati   ohio      usa\n",
              "4     2313  0060173289            9  ...  cincinnati   ohio      usa\n",
              "5     2313  0385482388            5  ...  cincinnati   ohio      usa\n",
              "\n",
              "[5 rows x 13 columns]"
            ]
          },
          "metadata": {},
          "execution_count": 38
        }
      ]
    },
    {
      "cell_type": "code",
      "metadata": {
        "colab": {
          "base_uri": "https://localhost:8080/",
          "height": 294
        },
        "id": "JIA5SzyB7bvZ",
        "outputId": "6eef05f3-26fa-499f-85c6-0daf0662492d"
      },
      "source": [
        "main_df_explicit.describe()"
      ],
      "execution_count": 39,
      "outputs": [
        {
          "output_type": "execute_result",
          "data": {
            "text/html": [
              "<div>\n",
              "<style scoped>\n",
              "    .dataframe tbody tr th:only-of-type {\n",
              "        vertical-align: middle;\n",
              "    }\n",
              "\n",
              "    .dataframe tbody tr th {\n",
              "        vertical-align: top;\n",
              "    }\n",
              "\n",
              "    .dataframe thead th {\n",
              "        text-align: right;\n",
              "    }\n",
              "</style>\n",
              "<table border=\"1\" class=\"dataframe\">\n",
              "  <thead>\n",
              "    <tr style=\"text-align: right;\">\n",
              "      <th></th>\n",
              "      <th>user_id</th>\n",
              "      <th>book_rating</th>\n",
              "      <th>publication_year</th>\n",
              "      <th>age</th>\n",
              "    </tr>\n",
              "  </thead>\n",
              "  <tbody>\n",
              "    <tr>\n",
              "      <th>count</th>\n",
              "      <td>383841.000000</td>\n",
              "      <td>383841.000000</td>\n",
              "      <td>383841.000000</td>\n",
              "      <td>383841.000000</td>\n",
              "    </tr>\n",
              "    <tr>\n",
              "      <th>mean</th>\n",
              "      <td>136031.222256</td>\n",
              "      <td>7.626702</td>\n",
              "      <td>1965.183459</td>\n",
              "      <td>36.167518</td>\n",
              "    </tr>\n",
              "    <tr>\n",
              "      <th>std</th>\n",
              "      <td>80482.268021</td>\n",
              "      <td>1.841341</td>\n",
              "      <td>245.009725</td>\n",
              "      <td>10.482990</td>\n",
              "    </tr>\n",
              "    <tr>\n",
              "      <th>min</th>\n",
              "      <td>8.000000</td>\n",
              "      <td>1.000000</td>\n",
              "      <td>0.000000</td>\n",
              "      <td>5.000000</td>\n",
              "    </tr>\n",
              "    <tr>\n",
              "      <th>25%</th>\n",
              "      <td>67591.000000</td>\n",
              "      <td>7.000000</td>\n",
              "      <td>1992.000000</td>\n",
              "      <td>31.000000</td>\n",
              "    </tr>\n",
              "    <tr>\n",
              "      <th>50%</th>\n",
              "      <td>133788.000000</td>\n",
              "      <td>8.000000</td>\n",
              "      <td>1997.000000</td>\n",
              "      <td>34.863441</td>\n",
              "    </tr>\n",
              "    <tr>\n",
              "      <th>75%</th>\n",
              "      <td>206219.000000</td>\n",
              "      <td>9.000000</td>\n",
              "      <td>2001.000000</td>\n",
              "      <td>40.000000</td>\n",
              "    </tr>\n",
              "    <tr>\n",
              "      <th>max</th>\n",
              "      <td>278854.000000</td>\n",
              "      <td>10.000000</td>\n",
              "      <td>2004.000000</td>\n",
              "      <td>114.000000</td>\n",
              "    </tr>\n",
              "  </tbody>\n",
              "</table>\n",
              "</div>"
            ],
            "text/plain": [
              "             user_id    book_rating  publication_year            age\n",
              "count  383841.000000  383841.000000     383841.000000  383841.000000\n",
              "mean   136031.222256       7.626702       1965.183459      36.167518\n",
              "std     80482.268021       1.841341        245.009725      10.482990\n",
              "min         8.000000       1.000000          0.000000       5.000000\n",
              "25%     67591.000000       7.000000       1992.000000      31.000000\n",
              "50%    133788.000000       8.000000       1997.000000      34.863441\n",
              "75%    206219.000000       9.000000       2001.000000      40.000000\n",
              "max    278854.000000      10.000000       2004.000000     114.000000"
            ]
          },
          "metadata": {},
          "execution_count": 39
        }
      ]
    },
    {
      "cell_type": "code",
      "metadata": {
        "colab": {
          "base_uri": "https://localhost:8080/",
          "height": 305
        },
        "id": "c6DoZ3Fc6KnO",
        "outputId": "f9bbd24d-09d9-4344-ca80-7ca232e63011"
      },
      "source": [
        "# add column with the average rating of each book given its unique ISBN code\n",
        "average_ratings = main_df_explicit.groupby('isbn_unique')['book_rating'].mean().round(2).reset_index()\n",
        "average_ratings.rename(columns={'book_rating': 'average_rating'}, inplace=True)\n",
        "\n",
        "main_df_explicit = main_df_explicit.merge(average_ratings, on='isbn_unique')\n",
        "main_df_explicit.head(5)"
      ],
      "execution_count": 40,
      "outputs": [
        {
          "output_type": "execute_result",
          "data": {
            "text/html": [
              "<div>\n",
              "<style scoped>\n",
              "    .dataframe tbody tr th:only-of-type {\n",
              "        vertical-align: middle;\n",
              "    }\n",
              "\n",
              "    .dataframe tbody tr th {\n",
              "        vertical-align: top;\n",
              "    }\n",
              "\n",
              "    .dataframe thead th {\n",
              "        text-align: right;\n",
              "    }\n",
              "</style>\n",
              "<table border=\"1\" class=\"dataframe\">\n",
              "  <thead>\n",
              "    <tr style=\"text-align: right;\">\n",
              "      <th></th>\n",
              "      <th>user_id</th>\n",
              "      <th>isbn</th>\n",
              "      <th>book_rating</th>\n",
              "      <th>book_title</th>\n",
              "      <th>book_author</th>\n",
              "      <th>publication_year</th>\n",
              "      <th>publisher</th>\n",
              "      <th>Image-URL-L</th>\n",
              "      <th>isbn_unique</th>\n",
              "      <th>age</th>\n",
              "      <th>city</th>\n",
              "      <th>state</th>\n",
              "      <th>country</th>\n",
              "      <th>average_rating</th>\n",
              "    </tr>\n",
              "  </thead>\n",
              "  <tbody>\n",
              "    <tr>\n",
              "      <th>0</th>\n",
              "      <td>2313</td>\n",
              "      <td>034545104X</td>\n",
              "      <td>5</td>\n",
              "      <td>Flesh Tones: A Novel</td>\n",
              "      <td>M. J. Rose</td>\n",
              "      <td>2002</td>\n",
              "      <td>Ballantine Books</td>\n",
              "      <td>http://images.amazon.com/images/P/034545104X.0...</td>\n",
              "      <td>034545104X</td>\n",
              "      <td>23.000000</td>\n",
              "      <td>cincinnati</td>\n",
              "      <td>ohio</td>\n",
              "      <td>usa</td>\n",
              "      <td>6.29</td>\n",
              "    </tr>\n",
              "    <tr>\n",
              "      <th>1</th>\n",
              "      <td>8680</td>\n",
              "      <td>034545104X</td>\n",
              "      <td>5</td>\n",
              "      <td>Flesh Tones: A Novel</td>\n",
              "      <td>M. J. Rose</td>\n",
              "      <td>2002</td>\n",
              "      <td>Ballantine Books</td>\n",
              "      <td>http://images.amazon.com/images/P/034545104X.0...</td>\n",
              "      <td>034545104X</td>\n",
              "      <td>34.863441</td>\n",
              "      <td>st. charles county</td>\n",
              "      <td>missouri</td>\n",
              "      <td>usa</td>\n",
              "      <td>6.29</td>\n",
              "    </tr>\n",
              "    <tr>\n",
              "      <th>2</th>\n",
              "      <td>10314</td>\n",
              "      <td>034545104X</td>\n",
              "      <td>9</td>\n",
              "      <td>Flesh Tones: A Novel</td>\n",
              "      <td>M. J. Rose</td>\n",
              "      <td>2002</td>\n",
              "      <td>Ballantine Books</td>\n",
              "      <td>http://images.amazon.com/images/P/034545104X.0...</td>\n",
              "      <td>034545104X</td>\n",
              "      <td>34.863441</td>\n",
              "      <td>beaverton</td>\n",
              "      <td>oregon</td>\n",
              "      <td>usa</td>\n",
              "      <td>6.29</td>\n",
              "    </tr>\n",
              "    <tr>\n",
              "      <th>3</th>\n",
              "      <td>50403</td>\n",
              "      <td>034545104X</td>\n",
              "      <td>9</td>\n",
              "      <td>Flesh Tones: A Novel</td>\n",
              "      <td>M. J. Rose</td>\n",
              "      <td>2002</td>\n",
              "      <td>Ballantine Books</td>\n",
              "      <td>http://images.amazon.com/images/P/034545104X.0...</td>\n",
              "      <td>034545104X</td>\n",
              "      <td>34.863441</td>\n",
              "      <td>conway</td>\n",
              "      <td>arkansas</td>\n",
              "      <td>usa</td>\n",
              "      <td>6.29</td>\n",
              "    </tr>\n",
              "    <tr>\n",
              "      <th>4</th>\n",
              "      <td>63970</td>\n",
              "      <td>034545104X</td>\n",
              "      <td>8</td>\n",
              "      <td>Flesh Tones: A Novel</td>\n",
              "      <td>M. J. Rose</td>\n",
              "      <td>2002</td>\n",
              "      <td>Ballantine Books</td>\n",
              "      <td>http://images.amazon.com/images/P/034545104X.0...</td>\n",
              "      <td>034545104X</td>\n",
              "      <td>34.863441</td>\n",
              "      <td>springfield</td>\n",
              "      <td>missouri</td>\n",
              "      <td>usa</td>\n",
              "      <td>6.29</td>\n",
              "    </tr>\n",
              "  </tbody>\n",
              "</table>\n",
              "</div>"
            ],
            "text/plain": [
              "   user_id        isbn  book_rating  ...      state country  average_rating\n",
              "0     2313  034545104X            5  ...       ohio     usa            6.29\n",
              "1     8680  034545104X            5  ...   missouri     usa            6.29\n",
              "2    10314  034545104X            9  ...     oregon     usa            6.29\n",
              "3    50403  034545104X            9  ...   arkansas     usa            6.29\n",
              "4    63970  034545104X            8  ...   missouri     usa            6.29\n",
              "\n",
              "[5 rows x 14 columns]"
            ]
          },
          "metadata": {},
          "execution_count": 40
        }
      ]
    },
    {
      "cell_type": "code",
      "metadata": {
        "colab": {
          "base_uri": "https://localhost:8080/",
          "height": 305
        },
        "id": "DX3knjYn-n_8",
        "outputId": "a9029543-f926-43fe-8446-c029fde7222a"
      },
      "source": [
        "# add column with the number of ratings of each book given its unique ISBN code\n",
        "n_ratings_explicit = main_df_explicit.groupby('isbn_unique')['book_rating'].count().reset_index()\n",
        "n_ratings_explicit.rename(columns={'book_rating': 'n_book_ratings'}, inplace=True)\n",
        "\n",
        "main_df_explicit = main_df_explicit.merge(n_ratings_explicit, on='isbn_unique')\n",
        "main_df_explicit.head(5)"
      ],
      "execution_count": 41,
      "outputs": [
        {
          "output_type": "execute_result",
          "data": {
            "text/html": [
              "<div>\n",
              "<style scoped>\n",
              "    .dataframe tbody tr th:only-of-type {\n",
              "        vertical-align: middle;\n",
              "    }\n",
              "\n",
              "    .dataframe tbody tr th {\n",
              "        vertical-align: top;\n",
              "    }\n",
              "\n",
              "    .dataframe thead th {\n",
              "        text-align: right;\n",
              "    }\n",
              "</style>\n",
              "<table border=\"1\" class=\"dataframe\">\n",
              "  <thead>\n",
              "    <tr style=\"text-align: right;\">\n",
              "      <th></th>\n",
              "      <th>user_id</th>\n",
              "      <th>isbn</th>\n",
              "      <th>book_rating</th>\n",
              "      <th>book_title</th>\n",
              "      <th>book_author</th>\n",
              "      <th>publication_year</th>\n",
              "      <th>publisher</th>\n",
              "      <th>Image-URL-L</th>\n",
              "      <th>isbn_unique</th>\n",
              "      <th>age</th>\n",
              "      <th>city</th>\n",
              "      <th>state</th>\n",
              "      <th>country</th>\n",
              "      <th>average_rating</th>\n",
              "      <th>n_book_ratings</th>\n",
              "    </tr>\n",
              "  </thead>\n",
              "  <tbody>\n",
              "    <tr>\n",
              "      <th>0</th>\n",
              "      <td>2313</td>\n",
              "      <td>034545104X</td>\n",
              "      <td>5</td>\n",
              "      <td>Flesh Tones: A Novel</td>\n",
              "      <td>M. J. Rose</td>\n",
              "      <td>2002</td>\n",
              "      <td>Ballantine Books</td>\n",
              "      <td>http://images.amazon.com/images/P/034545104X.0...</td>\n",
              "      <td>034545104X</td>\n",
              "      <td>23.000000</td>\n",
              "      <td>cincinnati</td>\n",
              "      <td>ohio</td>\n",
              "      <td>usa</td>\n",
              "      <td>6.29</td>\n",
              "      <td>28</td>\n",
              "    </tr>\n",
              "    <tr>\n",
              "      <th>1</th>\n",
              "      <td>8680</td>\n",
              "      <td>034545104X</td>\n",
              "      <td>5</td>\n",
              "      <td>Flesh Tones: A Novel</td>\n",
              "      <td>M. J. Rose</td>\n",
              "      <td>2002</td>\n",
              "      <td>Ballantine Books</td>\n",
              "      <td>http://images.amazon.com/images/P/034545104X.0...</td>\n",
              "      <td>034545104X</td>\n",
              "      <td>34.863441</td>\n",
              "      <td>st. charles county</td>\n",
              "      <td>missouri</td>\n",
              "      <td>usa</td>\n",
              "      <td>6.29</td>\n",
              "      <td>28</td>\n",
              "    </tr>\n",
              "    <tr>\n",
              "      <th>2</th>\n",
              "      <td>10314</td>\n",
              "      <td>034545104X</td>\n",
              "      <td>9</td>\n",
              "      <td>Flesh Tones: A Novel</td>\n",
              "      <td>M. J. Rose</td>\n",
              "      <td>2002</td>\n",
              "      <td>Ballantine Books</td>\n",
              "      <td>http://images.amazon.com/images/P/034545104X.0...</td>\n",
              "      <td>034545104X</td>\n",
              "      <td>34.863441</td>\n",
              "      <td>beaverton</td>\n",
              "      <td>oregon</td>\n",
              "      <td>usa</td>\n",
              "      <td>6.29</td>\n",
              "      <td>28</td>\n",
              "    </tr>\n",
              "    <tr>\n",
              "      <th>3</th>\n",
              "      <td>50403</td>\n",
              "      <td>034545104X</td>\n",
              "      <td>9</td>\n",
              "      <td>Flesh Tones: A Novel</td>\n",
              "      <td>M. J. Rose</td>\n",
              "      <td>2002</td>\n",
              "      <td>Ballantine Books</td>\n",
              "      <td>http://images.amazon.com/images/P/034545104X.0...</td>\n",
              "      <td>034545104X</td>\n",
              "      <td>34.863441</td>\n",
              "      <td>conway</td>\n",
              "      <td>arkansas</td>\n",
              "      <td>usa</td>\n",
              "      <td>6.29</td>\n",
              "      <td>28</td>\n",
              "    </tr>\n",
              "    <tr>\n",
              "      <th>4</th>\n",
              "      <td>63970</td>\n",
              "      <td>034545104X</td>\n",
              "      <td>8</td>\n",
              "      <td>Flesh Tones: A Novel</td>\n",
              "      <td>M. J. Rose</td>\n",
              "      <td>2002</td>\n",
              "      <td>Ballantine Books</td>\n",
              "      <td>http://images.amazon.com/images/P/034545104X.0...</td>\n",
              "      <td>034545104X</td>\n",
              "      <td>34.863441</td>\n",
              "      <td>springfield</td>\n",
              "      <td>missouri</td>\n",
              "      <td>usa</td>\n",
              "      <td>6.29</td>\n",
              "      <td>28</td>\n",
              "    </tr>\n",
              "  </tbody>\n",
              "</table>\n",
              "</div>"
            ],
            "text/plain": [
              "   user_id        isbn  book_rating  ... country average_rating  n_book_ratings\n",
              "0     2313  034545104X            5  ...     usa           6.29              28\n",
              "1     8680  034545104X            5  ...     usa           6.29              28\n",
              "2    10314  034545104X            9  ...     usa           6.29              28\n",
              "3    50403  034545104X            9  ...     usa           6.29              28\n",
              "4    63970  034545104X            8  ...     usa           6.29              28\n",
              "\n",
              "[5 rows x 15 columns]"
            ]
          },
          "metadata": {},
          "execution_count": 41
        }
      ]
    },
    {
      "cell_type": "code",
      "metadata": {
        "colab": {
          "base_uri": "https://localhost:8080/"
        },
        "id": "QK3wX2PvBpTm",
        "outputId": "06b6024a-6376-432d-e71d-94878ebf2f45"
      },
      "source": [
        "main_df_explicit['n_book_ratings'].describe().round(3)"
      ],
      "execution_count": 42,
      "outputs": [
        {
          "output_type": "execute_result",
          "data": {
            "text/plain": [
              "count    383841.000\n",
              "mean         36.041\n",
              "std          75.334\n",
              "min           1.000\n",
              "25%           2.000\n",
              "50%           7.000\n",
              "75%          32.000\n",
              "max         707.000\n",
              "Name: n_book_ratings, dtype: float64"
            ]
          },
          "metadata": {},
          "execution_count": 42
        }
      ]
    },
    {
      "cell_type": "code",
      "metadata": {
        "colab": {
          "base_uri": "https://localhost:8080/",
          "height": 601
        },
        "id": "NkerjW3h_rzD",
        "outputId": "14f7336a-643d-4c60-9c83-f31257609cce"
      },
      "source": [
        "# keep books that have been rated more than the mean / third quartile number of ratings\n",
        "main_df_explicit = main_df_explicit[main_df_explicit['n_book_ratings'] >= 32]\n",
        "main_df_explicit"
      ],
      "execution_count": 43,
      "outputs": [
        {
          "output_type": "execute_result",
          "data": {
            "text/html": [
              "<div>\n",
              "<style scoped>\n",
              "    .dataframe tbody tr th:only-of-type {\n",
              "        vertical-align: middle;\n",
              "    }\n",
              "\n",
              "    .dataframe tbody tr th {\n",
              "        vertical-align: top;\n",
              "    }\n",
              "\n",
              "    .dataframe thead th {\n",
              "        text-align: right;\n",
              "    }\n",
              "</style>\n",
              "<table border=\"1\" class=\"dataframe\">\n",
              "  <thead>\n",
              "    <tr style=\"text-align: right;\">\n",
              "      <th></th>\n",
              "      <th>user_id</th>\n",
              "      <th>isbn</th>\n",
              "      <th>book_rating</th>\n",
              "      <th>book_title</th>\n",
              "      <th>book_author</th>\n",
              "      <th>publication_year</th>\n",
              "      <th>publisher</th>\n",
              "      <th>Image-URL-L</th>\n",
              "      <th>isbn_unique</th>\n",
              "      <th>age</th>\n",
              "      <th>city</th>\n",
              "      <th>state</th>\n",
              "      <th>country</th>\n",
              "      <th>average_rating</th>\n",
              "      <th>n_book_ratings</th>\n",
              "    </tr>\n",
              "  </thead>\n",
              "  <tbody>\n",
              "    <tr>\n",
              "      <th>28</th>\n",
              "      <td>2313</td>\n",
              "      <td>0812533550</td>\n",
              "      <td>9</td>\n",
              "      <td>Ender's Game</td>\n",
              "      <td>Orson Scott Card</td>\n",
              "      <td>1986</td>\n",
              "      <td>Tor Books</td>\n",
              "      <td>http://images.amazon.com/images/P/0812533550.0...</td>\n",
              "      <td>0312853238</td>\n",
              "      <td>23.000000</td>\n",
              "      <td>cincinnati</td>\n",
              "      <td>ohio</td>\n",
              "      <td>usa</td>\n",
              "      <td>8.86</td>\n",
              "      <td>168</td>\n",
              "    </tr>\n",
              "    <tr>\n",
              "      <th>29</th>\n",
              "      <td>81977</td>\n",
              "      <td>0765342294</td>\n",
              "      <td>9</td>\n",
              "      <td>Ender's Game</td>\n",
              "      <td>Orson Scott Card</td>\n",
              "      <td>2002</td>\n",
              "      <td>Starscape Books</td>\n",
              "      <td>http://images.amazon.com/images/P/0765342294.0...</td>\n",
              "      <td>0312853238</td>\n",
              "      <td>34.000000</td>\n",
              "      <td>minneapolis</td>\n",
              "      <td>minnesota</td>\n",
              "      <td>usa</td>\n",
              "      <td>8.86</td>\n",
              "      <td>168</td>\n",
              "    </tr>\n",
              "    <tr>\n",
              "      <th>30</th>\n",
              "      <td>163202</td>\n",
              "      <td>0812550706</td>\n",
              "      <td>10</td>\n",
              "      <td>Ender's Game</td>\n",
              "      <td>Orson Scott Card</td>\n",
              "      <td>1994</td>\n",
              "      <td>Tor Books</td>\n",
              "      <td>http://images.amazon.com/images/P/0812550706.0...</td>\n",
              "      <td>0312853238</td>\n",
              "      <td>26.000000</td>\n",
              "      <td>los angeles</td>\n",
              "      <td>california</td>\n",
              "      <td>usa</td>\n",
              "      <td>8.86</td>\n",
              "      <td>168</td>\n",
              "    </tr>\n",
              "    <tr>\n",
              "      <th>31</th>\n",
              "      <td>11676</td>\n",
              "      <td>0812550706</td>\n",
              "      <td>9</td>\n",
              "      <td>Ender's Game</td>\n",
              "      <td>Orson Scott Card</td>\n",
              "      <td>1994</td>\n",
              "      <td>Tor Books</td>\n",
              "      <td>http://images.amazon.com/images/P/0812550706.0...</td>\n",
              "      <td>0312853238</td>\n",
              "      <td>34.863441</td>\n",
              "      <td>n/a</td>\n",
              "      <td>n/a</td>\n",
              "      <td>na</td>\n",
              "      <td>8.86</td>\n",
              "      <td>168</td>\n",
              "    </tr>\n",
              "    <tr>\n",
              "      <th>32</th>\n",
              "      <td>11676</td>\n",
              "      <td>0812589041</td>\n",
              "      <td>7</td>\n",
              "      <td>Ender's Game</td>\n",
              "      <td>Orson Scott Card</td>\n",
              "      <td>1999</td>\n",
              "      <td>Tor Books</td>\n",
              "      <td>http://images.amazon.com/images/P/0812589041.0...</td>\n",
              "      <td>0312853238</td>\n",
              "      <td>34.863441</td>\n",
              "      <td>n/a</td>\n",
              "      <td>n/a</td>\n",
              "      <td>na</td>\n",
              "      <td>8.86</td>\n",
              "      <td>168</td>\n",
              "    </tr>\n",
              "    <tr>\n",
              "      <th>...</th>\n",
              "      <td>...</td>\n",
              "      <td>...</td>\n",
              "      <td>...</td>\n",
              "      <td>...</td>\n",
              "      <td>...</td>\n",
              "      <td>...</td>\n",
              "      <td>...</td>\n",
              "      <td>...</td>\n",
              "      <td>...</td>\n",
              "      <td>...</td>\n",
              "      <td>...</td>\n",
              "      <td>...</td>\n",
              "      <td>...</td>\n",
              "      <td>...</td>\n",
              "      <td>...</td>\n",
              "    </tr>\n",
              "    <tr>\n",
              "      <th>265139</th>\n",
              "      <td>128624</td>\n",
              "      <td>3257229534</td>\n",
              "      <td>9</td>\n",
              "      <td>Der Vorleser</td>\n",
              "      <td>Bernhard Schlink</td>\n",
              "      <td>1999</td>\n",
              "      <td>Diogenes Verlag AG</td>\n",
              "      <td>http://images.amazon.com/images/P/3257229534.0...</td>\n",
              "      <td>3257229534</td>\n",
              "      <td>20.000000</td>\n",
              "      <td>oberhausen</td>\n",
              "      <td>nordrhein-westfalen</td>\n",
              "      <td>germany</td>\n",
              "      <td>7.88</td>\n",
              "      <td>32</td>\n",
              "    </tr>\n",
              "    <tr>\n",
              "      <th>265140</th>\n",
              "      <td>136037</td>\n",
              "      <td>3257229534</td>\n",
              "      <td>8</td>\n",
              "      <td>Der Vorleser</td>\n",
              "      <td>Bernhard Schlink</td>\n",
              "      <td>1999</td>\n",
              "      <td>Diogenes Verlag AG</td>\n",
              "      <td>http://images.amazon.com/images/P/3257229534.0...</td>\n",
              "      <td>3257229534</td>\n",
              "      <td>19.000000</td>\n",
              "      <td>möhlin</td>\n",
              "      <td>aargau</td>\n",
              "      <td>switzerland</td>\n",
              "      <td>7.88</td>\n",
              "      <td>32</td>\n",
              "    </tr>\n",
              "    <tr>\n",
              "      <th>265141</th>\n",
              "      <td>157669</td>\n",
              "      <td>3257229534</td>\n",
              "      <td>7</td>\n",
              "      <td>Der Vorleser</td>\n",
              "      <td>Bernhard Schlink</td>\n",
              "      <td>1999</td>\n",
              "      <td>Diogenes Verlag AG</td>\n",
              "      <td>http://images.amazon.com/images/P/3257229534.0...</td>\n",
              "      <td>3257229534</td>\n",
              "      <td>34.863441</td>\n",
              "      <td>hamburg</td>\n",
              "      <td>hamburg</td>\n",
              "      <td>germany</td>\n",
              "      <td>7.88</td>\n",
              "      <td>32</td>\n",
              "    </tr>\n",
              "    <tr>\n",
              "      <th>265142</th>\n",
              "      <td>163288</td>\n",
              "      <td>3257229534</td>\n",
              "      <td>7</td>\n",
              "      <td>Der Vorleser</td>\n",
              "      <td>Bernhard Schlink</td>\n",
              "      <td>1999</td>\n",
              "      <td>Diogenes Verlag AG</td>\n",
              "      <td>http://images.amazon.com/images/P/3257229534.0...</td>\n",
              "      <td>3257229534</td>\n",
              "      <td>22.000000</td>\n",
              "      <td>baunatal</td>\n",
              "      <td>hessen</td>\n",
              "      <td>germany</td>\n",
              "      <td>7.88</td>\n",
              "      <td>32</td>\n",
              "    </tr>\n",
              "    <tr>\n",
              "      <th>265143</th>\n",
              "      <td>180529</td>\n",
              "      <td>3257229534</td>\n",
              "      <td>8</td>\n",
              "      <td>Der Vorleser</td>\n",
              "      <td>Bernhard Schlink</td>\n",
              "      <td>1999</td>\n",
              "      <td>Diogenes Verlag AG</td>\n",
              "      <td>http://images.amazon.com/images/P/3257229534.0...</td>\n",
              "      <td>3257229534</td>\n",
              "      <td>34.863441</td>\n",
              "      <td>hamburg</td>\n",
              "      <td>hamburg</td>\n",
              "      <td>germany</td>\n",
              "      <td>7.88</td>\n",
              "      <td>32</td>\n",
              "    </tr>\n",
              "  </tbody>\n",
              "</table>\n",
              "<p>96829 rows × 15 columns</p>\n",
              "</div>"
            ],
            "text/plain": [
              "        user_id        isbn  ...  average_rating n_book_ratings\n",
              "28         2313  0812533550  ...            8.86            168\n",
              "29        81977  0765342294  ...            8.86            168\n",
              "30       163202  0812550706  ...            8.86            168\n",
              "31        11676  0812550706  ...            8.86            168\n",
              "32        11676  0812589041  ...            8.86            168\n",
              "...         ...         ...  ...             ...            ...\n",
              "265139   128624  3257229534  ...            7.88             32\n",
              "265140   136037  3257229534  ...            7.88             32\n",
              "265141   157669  3257229534  ...            7.88             32\n",
              "265142   163288  3257229534  ...            7.88             32\n",
              "265143   180529  3257229534  ...            7.88             32\n",
              "\n",
              "[96829 rows x 15 columns]"
            ]
          },
          "metadata": {},
          "execution_count": 43
        }
      ]
    },
    {
      "cell_type": "code",
      "metadata": {
        "id": "SqnfkUkO_QQS"
      },
      "source": [
        "#main_df_explicit.to_csv( 'main_df_explicit.csv', index = False)\n",
        "#pd.read_csv(os.getcwd() + 'main_df_explicit.csv').head()"
      ],
      "execution_count": 44,
      "outputs": []
    },
    {
      "cell_type": "markdown",
      "metadata": {
        "id": "MWTqxDt-98bX"
      },
      "source": [
        "### 2.3.3 main_df_implicit"
      ]
    },
    {
      "cell_type": "code",
      "metadata": {
        "colab": {
          "base_uri": "https://localhost:8080/",
          "height": 373
        },
        "id": "bwf7UZAQJrRF",
        "outputId": "fafaa648-eb38-4484-b795-73252ada8cc7"
      },
      "source": [
        "main_df_implicit = main_df_all.copy()\n",
        "main_df_implicit.loc[ main_df_implicit['book_rating'] >= 0, 'book_rating'] = 1\n",
        "print(f'Df implicit size: {main_df_implicit.shape[0]} entries.')\n",
        "main_df_implicit.head(5)"
      ],
      "execution_count": 45,
      "outputs": [
        {
          "output_type": "stream",
          "name": "stdout",
          "text": [
            "Df implicit size: 1031132 entries.\n"
          ]
        },
        {
          "output_type": "execute_result",
          "data": {
            "text/html": [
              "<div>\n",
              "<style scoped>\n",
              "    .dataframe tbody tr th:only-of-type {\n",
              "        vertical-align: middle;\n",
              "    }\n",
              "\n",
              "    .dataframe tbody tr th {\n",
              "        vertical-align: top;\n",
              "    }\n",
              "\n",
              "    .dataframe thead th {\n",
              "        text-align: right;\n",
              "    }\n",
              "</style>\n",
              "<table border=\"1\" class=\"dataframe\">\n",
              "  <thead>\n",
              "    <tr style=\"text-align: right;\">\n",
              "      <th></th>\n",
              "      <th>user_id</th>\n",
              "      <th>isbn</th>\n",
              "      <th>book_rating</th>\n",
              "      <th>book_title</th>\n",
              "      <th>book_author</th>\n",
              "      <th>publication_year</th>\n",
              "      <th>publisher</th>\n",
              "      <th>Image-URL-L</th>\n",
              "      <th>isbn_unique</th>\n",
              "      <th>age</th>\n",
              "      <th>city</th>\n",
              "      <th>state</th>\n",
              "      <th>country</th>\n",
              "    </tr>\n",
              "  </thead>\n",
              "  <tbody>\n",
              "    <tr>\n",
              "      <th>0</th>\n",
              "      <td>276725</td>\n",
              "      <td>034545104X</td>\n",
              "      <td>1</td>\n",
              "      <td>Flesh Tones: A Novel</td>\n",
              "      <td>M. J. Rose</td>\n",
              "      <td>2002</td>\n",
              "      <td>Ballantine Books</td>\n",
              "      <td>http://images.amazon.com/images/P/034545104X.0...</td>\n",
              "      <td>034545104X</td>\n",
              "      <td>34.863441</td>\n",
              "      <td>tyler</td>\n",
              "      <td>texas</td>\n",
              "      <td>usa</td>\n",
              "    </tr>\n",
              "    <tr>\n",
              "      <th>1</th>\n",
              "      <td>2313</td>\n",
              "      <td>034545104X</td>\n",
              "      <td>1</td>\n",
              "      <td>Flesh Tones: A Novel</td>\n",
              "      <td>M. J. Rose</td>\n",
              "      <td>2002</td>\n",
              "      <td>Ballantine Books</td>\n",
              "      <td>http://images.amazon.com/images/P/034545104X.0...</td>\n",
              "      <td>034545104X</td>\n",
              "      <td>23.000000</td>\n",
              "      <td>cincinnati</td>\n",
              "      <td>ohio</td>\n",
              "      <td>usa</td>\n",
              "    </tr>\n",
              "    <tr>\n",
              "      <th>2</th>\n",
              "      <td>2313</td>\n",
              "      <td>0812533550</td>\n",
              "      <td>1</td>\n",
              "      <td>Ender's Game</td>\n",
              "      <td>Orson Scott Card</td>\n",
              "      <td>1986</td>\n",
              "      <td>Tor Books</td>\n",
              "      <td>http://images.amazon.com/images/P/0812533550.0...</td>\n",
              "      <td>0312853238</td>\n",
              "      <td>23.000000</td>\n",
              "      <td>cincinnati</td>\n",
              "      <td>ohio</td>\n",
              "      <td>usa</td>\n",
              "    </tr>\n",
              "    <tr>\n",
              "      <th>3</th>\n",
              "      <td>2313</td>\n",
              "      <td>0679745580</td>\n",
              "      <td>1</td>\n",
              "      <td>In Cold Blood</td>\n",
              "      <td>TRUMAN CAPOTE</td>\n",
              "      <td>1994</td>\n",
              "      <td>Vintage</td>\n",
              "      <td>http://images.amazon.com/images/P/0679745580.0...</td>\n",
              "      <td>0679745580</td>\n",
              "      <td>23.000000</td>\n",
              "      <td>cincinnati</td>\n",
              "      <td>ohio</td>\n",
              "      <td>usa</td>\n",
              "    </tr>\n",
              "    <tr>\n",
              "      <th>4</th>\n",
              "      <td>2313</td>\n",
              "      <td>0060173289</td>\n",
              "      <td>1</td>\n",
              "      <td>Divine Secrets of the Ya-Ya Sisterhood : A Novel</td>\n",
              "      <td>Rebecca Wells</td>\n",
              "      <td>1996</td>\n",
              "      <td>HarperCollins</td>\n",
              "      <td>http://images.amazon.com/images/P/0060173289.0...</td>\n",
              "      <td>0060173289</td>\n",
              "      <td>23.000000</td>\n",
              "      <td>cincinnati</td>\n",
              "      <td>ohio</td>\n",
              "      <td>usa</td>\n",
              "    </tr>\n",
              "  </tbody>\n",
              "</table>\n",
              "</div>"
            ],
            "text/plain": [
              "   user_id        isbn  book_rating  ...        city   state  country\n",
              "0   276725  034545104X            1  ...       tyler   texas      usa\n",
              "1     2313  034545104X            1  ...  cincinnati    ohio      usa\n",
              "2     2313  0812533550            1  ...  cincinnati    ohio      usa\n",
              "3     2313  0679745580            1  ...  cincinnati    ohio      usa\n",
              "4     2313  0060173289            1  ...  cincinnati    ohio      usa\n",
              "\n",
              "[5 rows x 13 columns]"
            ]
          },
          "metadata": {},
          "execution_count": 45
        }
      ]
    },
    {
      "cell_type": "code",
      "metadata": {
        "colab": {
          "base_uri": "https://localhost:8080/",
          "height": 322
        },
        "id": "DFrkOAFDF2Vd",
        "outputId": "954c59ec-994a-422b-a4d5-862bf47410f8"
      },
      "source": [
        "# add column with the average rating of each book given its unique ISBN code (not necessary)\n",
        "average_ratings = main_df_implicit.groupby('isbn_unique')['book_rating'].mean().round(2).reset_index()\n",
        "average_ratings.rename(columns={'book_rating': 'average_rating'}, inplace=True)\n",
        "\n",
        "main_df_implicit = main_df_implicit.merge(average_ratings, on='isbn_unique')\n",
        "main_df_implicit.head(5)"
      ],
      "execution_count": 46,
      "outputs": [
        {
          "output_type": "execute_result",
          "data": {
            "text/html": [
              "<div>\n",
              "<style scoped>\n",
              "    .dataframe tbody tr th:only-of-type {\n",
              "        vertical-align: middle;\n",
              "    }\n",
              "\n",
              "    .dataframe tbody tr th {\n",
              "        vertical-align: top;\n",
              "    }\n",
              "\n",
              "    .dataframe thead th {\n",
              "        text-align: right;\n",
              "    }\n",
              "</style>\n",
              "<table border=\"1\" class=\"dataframe\">\n",
              "  <thead>\n",
              "    <tr style=\"text-align: right;\">\n",
              "      <th></th>\n",
              "      <th>user_id</th>\n",
              "      <th>isbn</th>\n",
              "      <th>book_rating</th>\n",
              "      <th>book_title</th>\n",
              "      <th>book_author</th>\n",
              "      <th>publication_year</th>\n",
              "      <th>publisher</th>\n",
              "      <th>Image-URL-L</th>\n",
              "      <th>isbn_unique</th>\n",
              "      <th>age</th>\n",
              "      <th>city</th>\n",
              "      <th>state</th>\n",
              "      <th>country</th>\n",
              "      <th>average_rating</th>\n",
              "    </tr>\n",
              "  </thead>\n",
              "  <tbody>\n",
              "    <tr>\n",
              "      <th>0</th>\n",
              "      <td>276725</td>\n",
              "      <td>034545104X</td>\n",
              "      <td>1</td>\n",
              "      <td>Flesh Tones: A Novel</td>\n",
              "      <td>M. J. Rose</td>\n",
              "      <td>2002</td>\n",
              "      <td>Ballantine Books</td>\n",
              "      <td>http://images.amazon.com/images/P/034545104X.0...</td>\n",
              "      <td>034545104X</td>\n",
              "      <td>34.863441</td>\n",
              "      <td>tyler</td>\n",
              "      <td>texas</td>\n",
              "      <td>usa</td>\n",
              "      <td>1</td>\n",
              "    </tr>\n",
              "    <tr>\n",
              "      <th>1</th>\n",
              "      <td>2313</td>\n",
              "      <td>034545104X</td>\n",
              "      <td>1</td>\n",
              "      <td>Flesh Tones: A Novel</td>\n",
              "      <td>M. J. Rose</td>\n",
              "      <td>2002</td>\n",
              "      <td>Ballantine Books</td>\n",
              "      <td>http://images.amazon.com/images/P/034545104X.0...</td>\n",
              "      <td>034545104X</td>\n",
              "      <td>23.000000</td>\n",
              "      <td>cincinnati</td>\n",
              "      <td>ohio</td>\n",
              "      <td>usa</td>\n",
              "      <td>1</td>\n",
              "    </tr>\n",
              "    <tr>\n",
              "      <th>2</th>\n",
              "      <td>6543</td>\n",
              "      <td>034545104X</td>\n",
              "      <td>1</td>\n",
              "      <td>Flesh Tones: A Novel</td>\n",
              "      <td>M. J. Rose</td>\n",
              "      <td>2002</td>\n",
              "      <td>Ballantine Books</td>\n",
              "      <td>http://images.amazon.com/images/P/034545104X.0...</td>\n",
              "      <td>034545104X</td>\n",
              "      <td>34.000000</td>\n",
              "      <td>strafford</td>\n",
              "      <td>missouri</td>\n",
              "      <td>usa</td>\n",
              "      <td>1</td>\n",
              "    </tr>\n",
              "    <tr>\n",
              "      <th>3</th>\n",
              "      <td>8680</td>\n",
              "      <td>034545104X</td>\n",
              "      <td>1</td>\n",
              "      <td>Flesh Tones: A Novel</td>\n",
              "      <td>M. J. Rose</td>\n",
              "      <td>2002</td>\n",
              "      <td>Ballantine Books</td>\n",
              "      <td>http://images.amazon.com/images/P/034545104X.0...</td>\n",
              "      <td>034545104X</td>\n",
              "      <td>34.863441</td>\n",
              "      <td>st. charles county</td>\n",
              "      <td>missouri</td>\n",
              "      <td>usa</td>\n",
              "      <td>1</td>\n",
              "    </tr>\n",
              "    <tr>\n",
              "      <th>4</th>\n",
              "      <td>10314</td>\n",
              "      <td>034545104X</td>\n",
              "      <td>1</td>\n",
              "      <td>Flesh Tones: A Novel</td>\n",
              "      <td>M. J. Rose</td>\n",
              "      <td>2002</td>\n",
              "      <td>Ballantine Books</td>\n",
              "      <td>http://images.amazon.com/images/P/034545104X.0...</td>\n",
              "      <td>034545104X</td>\n",
              "      <td>34.863441</td>\n",
              "      <td>beaverton</td>\n",
              "      <td>oregon</td>\n",
              "      <td>usa</td>\n",
              "      <td>1</td>\n",
              "    </tr>\n",
              "  </tbody>\n",
              "</table>\n",
              "</div>"
            ],
            "text/plain": [
              "   user_id        isbn  book_rating  ...      state country  average_rating\n",
              "0   276725  034545104X            1  ...      texas     usa               1\n",
              "1     2313  034545104X            1  ...       ohio     usa               1\n",
              "2     6543  034545104X            1  ...   missouri     usa               1\n",
              "3     8680  034545104X            1  ...   missouri     usa               1\n",
              "4    10314  034545104X            1  ...     oregon     usa               1\n",
              "\n",
              "[5 rows x 14 columns]"
            ]
          },
          "metadata": {},
          "execution_count": 46
        }
      ]
    },
    {
      "cell_type": "code",
      "metadata": {
        "colab": {
          "base_uri": "https://localhost:8080/",
          "height": 322
        },
        "id": "mEb1ty4X_QHs",
        "outputId": "8479c88e-9b13-4a0d-cd59-e91cb7e7506b"
      },
      "source": [
        "# add column with the number of interactions of each book given its unique ISBN code\n",
        "n_ratings_implicit = main_df_implicit.groupby('isbn_unique')['book_rating'].count().reset_index()\n",
        "n_ratings_implicit.rename(columns={'book_rating': 'n_book_ratings'}, inplace=True)\n",
        "\n",
        "main_df_implicit = main_df_implicit.merge(n_ratings_implicit, on='isbn_unique')\n",
        "main_df_implicit.head(5)"
      ],
      "execution_count": 47,
      "outputs": [
        {
          "output_type": "execute_result",
          "data": {
            "text/html": [
              "<div>\n",
              "<style scoped>\n",
              "    .dataframe tbody tr th:only-of-type {\n",
              "        vertical-align: middle;\n",
              "    }\n",
              "\n",
              "    .dataframe tbody tr th {\n",
              "        vertical-align: top;\n",
              "    }\n",
              "\n",
              "    .dataframe thead th {\n",
              "        text-align: right;\n",
              "    }\n",
              "</style>\n",
              "<table border=\"1\" class=\"dataframe\">\n",
              "  <thead>\n",
              "    <tr style=\"text-align: right;\">\n",
              "      <th></th>\n",
              "      <th>user_id</th>\n",
              "      <th>isbn</th>\n",
              "      <th>book_rating</th>\n",
              "      <th>book_title</th>\n",
              "      <th>book_author</th>\n",
              "      <th>publication_year</th>\n",
              "      <th>publisher</th>\n",
              "      <th>Image-URL-L</th>\n",
              "      <th>isbn_unique</th>\n",
              "      <th>age</th>\n",
              "      <th>city</th>\n",
              "      <th>state</th>\n",
              "      <th>country</th>\n",
              "      <th>average_rating</th>\n",
              "      <th>n_book_ratings</th>\n",
              "    </tr>\n",
              "  </thead>\n",
              "  <tbody>\n",
              "    <tr>\n",
              "      <th>0</th>\n",
              "      <td>276725</td>\n",
              "      <td>034545104X</td>\n",
              "      <td>1</td>\n",
              "      <td>Flesh Tones: A Novel</td>\n",
              "      <td>M. J. Rose</td>\n",
              "      <td>2002</td>\n",
              "      <td>Ballantine Books</td>\n",
              "      <td>http://images.amazon.com/images/P/034545104X.0...</td>\n",
              "      <td>034545104X</td>\n",
              "      <td>34.863441</td>\n",
              "      <td>tyler</td>\n",
              "      <td>texas</td>\n",
              "      <td>usa</td>\n",
              "      <td>1</td>\n",
              "      <td>60</td>\n",
              "    </tr>\n",
              "    <tr>\n",
              "      <th>1</th>\n",
              "      <td>2313</td>\n",
              "      <td>034545104X</td>\n",
              "      <td>1</td>\n",
              "      <td>Flesh Tones: A Novel</td>\n",
              "      <td>M. J. Rose</td>\n",
              "      <td>2002</td>\n",
              "      <td>Ballantine Books</td>\n",
              "      <td>http://images.amazon.com/images/P/034545104X.0...</td>\n",
              "      <td>034545104X</td>\n",
              "      <td>23.000000</td>\n",
              "      <td>cincinnati</td>\n",
              "      <td>ohio</td>\n",
              "      <td>usa</td>\n",
              "      <td>1</td>\n",
              "      <td>60</td>\n",
              "    </tr>\n",
              "    <tr>\n",
              "      <th>2</th>\n",
              "      <td>6543</td>\n",
              "      <td>034545104X</td>\n",
              "      <td>1</td>\n",
              "      <td>Flesh Tones: A Novel</td>\n",
              "      <td>M. J. Rose</td>\n",
              "      <td>2002</td>\n",
              "      <td>Ballantine Books</td>\n",
              "      <td>http://images.amazon.com/images/P/034545104X.0...</td>\n",
              "      <td>034545104X</td>\n",
              "      <td>34.000000</td>\n",
              "      <td>strafford</td>\n",
              "      <td>missouri</td>\n",
              "      <td>usa</td>\n",
              "      <td>1</td>\n",
              "      <td>60</td>\n",
              "    </tr>\n",
              "    <tr>\n",
              "      <th>3</th>\n",
              "      <td>8680</td>\n",
              "      <td>034545104X</td>\n",
              "      <td>1</td>\n",
              "      <td>Flesh Tones: A Novel</td>\n",
              "      <td>M. J. Rose</td>\n",
              "      <td>2002</td>\n",
              "      <td>Ballantine Books</td>\n",
              "      <td>http://images.amazon.com/images/P/034545104X.0...</td>\n",
              "      <td>034545104X</td>\n",
              "      <td>34.863441</td>\n",
              "      <td>st. charles county</td>\n",
              "      <td>missouri</td>\n",
              "      <td>usa</td>\n",
              "      <td>1</td>\n",
              "      <td>60</td>\n",
              "    </tr>\n",
              "    <tr>\n",
              "      <th>4</th>\n",
              "      <td>10314</td>\n",
              "      <td>034545104X</td>\n",
              "      <td>1</td>\n",
              "      <td>Flesh Tones: A Novel</td>\n",
              "      <td>M. J. Rose</td>\n",
              "      <td>2002</td>\n",
              "      <td>Ballantine Books</td>\n",
              "      <td>http://images.amazon.com/images/P/034545104X.0...</td>\n",
              "      <td>034545104X</td>\n",
              "      <td>34.863441</td>\n",
              "      <td>beaverton</td>\n",
              "      <td>oregon</td>\n",
              "      <td>usa</td>\n",
              "      <td>1</td>\n",
              "      <td>60</td>\n",
              "    </tr>\n",
              "  </tbody>\n",
              "</table>\n",
              "</div>"
            ],
            "text/plain": [
              "   user_id        isbn  book_rating  ... country average_rating  n_book_ratings\n",
              "0   276725  034545104X            1  ...     usa              1              60\n",
              "1     2313  034545104X            1  ...     usa              1              60\n",
              "2     6543  034545104X            1  ...     usa              1              60\n",
              "3     8680  034545104X            1  ...     usa              1              60\n",
              "4    10314  034545104X            1  ...     usa              1              60\n",
              "\n",
              "[5 rows x 15 columns]"
            ]
          },
          "metadata": {},
          "execution_count": 47
        }
      ]
    },
    {
      "cell_type": "code",
      "metadata": {
        "colab": {
          "base_uri": "https://localhost:8080/"
        },
        "id": "GTwJw7b5BdXi",
        "outputId": "d20df666-622f-4683-da6e-7f4747db37d5"
      },
      "source": [
        "main_df_implicit['n_book_ratings'].describe().round(3)"
      ],
      "execution_count": 48,
      "outputs": [
        {
          "output_type": "execute_result",
          "data": {
            "text/plain": [
              "count    1031132.000\n",
              "mean          77.450\n",
              "std          182.233\n",
              "min            1.000\n",
              "25%            4.000\n",
              "50%           15.000\n",
              "75%           73.000\n",
              "max         2502.000\n",
              "Name: n_book_ratings, dtype: float64"
            ]
          },
          "metadata": {},
          "execution_count": 48
        }
      ]
    },
    {
      "cell_type": "code",
      "metadata": {
        "colab": {
          "base_uri": "https://localhost:8080/",
          "height": 323
        },
        "id": "EYDSCl2y_7OC",
        "outputId": "a1c7892c-fd7f-4e33-bca9-2d832824efff"
      },
      "source": [
        "main_df_implicit = main_df_implicit[main_df_implicit['n_book_ratings'] >= 77]\n",
        "print(f'New df explicit size: {main_df_implicit.shape[0]} entries.')\n",
        "main_df_implicit.head(5)"
      ],
      "execution_count": 49,
      "outputs": [
        {
          "output_type": "stream",
          "name": "stdout",
          "text": [
            "New df explicit size: 248549 entries.\n"
          ]
        },
        {
          "output_type": "execute_result",
          "data": {
            "text/html": [
              "<div>\n",
              "<style scoped>\n",
              "    .dataframe tbody tr th:only-of-type {\n",
              "        vertical-align: middle;\n",
              "    }\n",
              "\n",
              "    .dataframe tbody tr th {\n",
              "        vertical-align: top;\n",
              "    }\n",
              "\n",
              "    .dataframe thead th {\n",
              "        text-align: right;\n",
              "    }\n",
              "</style>\n",
              "<table border=\"1\" class=\"dataframe\">\n",
              "  <thead>\n",
              "    <tr style=\"text-align: right;\">\n",
              "      <th></th>\n",
              "      <th>user_id</th>\n",
              "      <th>isbn</th>\n",
              "      <th>book_rating</th>\n",
              "      <th>book_title</th>\n",
              "      <th>book_author</th>\n",
              "      <th>publication_year</th>\n",
              "      <th>publisher</th>\n",
              "      <th>Image-URL-L</th>\n",
              "      <th>isbn_unique</th>\n",
              "      <th>age</th>\n",
              "      <th>city</th>\n",
              "      <th>state</th>\n",
              "      <th>country</th>\n",
              "      <th>average_rating</th>\n",
              "      <th>n_book_ratings</th>\n",
              "    </tr>\n",
              "  </thead>\n",
              "  <tbody>\n",
              "    <tr>\n",
              "      <th>60</th>\n",
              "      <td>2313</td>\n",
              "      <td>0812533550</td>\n",
              "      <td>1</td>\n",
              "      <td>Ender's Game</td>\n",
              "      <td>Orson Scott Card</td>\n",
              "      <td>1986</td>\n",
              "      <td>Tor Books</td>\n",
              "      <td>http://images.amazon.com/images/P/0812533550.0...</td>\n",
              "      <td>0312853238</td>\n",
              "      <td>23.0</td>\n",
              "      <td>cincinnati</td>\n",
              "      <td>ohio</td>\n",
              "      <td>usa</td>\n",
              "      <td>1</td>\n",
              "      <td>278</td>\n",
              "    </tr>\n",
              "    <tr>\n",
              "      <th>61</th>\n",
              "      <td>81977</td>\n",
              "      <td>0765342294</td>\n",
              "      <td>1</td>\n",
              "      <td>Ender's Game</td>\n",
              "      <td>Orson Scott Card</td>\n",
              "      <td>2002</td>\n",
              "      <td>Starscape Books</td>\n",
              "      <td>http://images.amazon.com/images/P/0765342294.0...</td>\n",
              "      <td>0312853238</td>\n",
              "      <td>34.0</td>\n",
              "      <td>minneapolis</td>\n",
              "      <td>minnesota</td>\n",
              "      <td>usa</td>\n",
              "      <td>1</td>\n",
              "      <td>278</td>\n",
              "    </tr>\n",
              "    <tr>\n",
              "      <th>62</th>\n",
              "      <td>115435</td>\n",
              "      <td>0812550706</td>\n",
              "      <td>1</td>\n",
              "      <td>Ender's Game</td>\n",
              "      <td>Orson Scott Card</td>\n",
              "      <td>1994</td>\n",
              "      <td>Tor Books</td>\n",
              "      <td>http://images.amazon.com/images/P/0812550706.0...</td>\n",
              "      <td>0312853238</td>\n",
              "      <td>30.0</td>\n",
              "      <td>cincinnati</td>\n",
              "      <td>ohio</td>\n",
              "      <td>usa</td>\n",
              "      <td>1</td>\n",
              "      <td>278</td>\n",
              "    </tr>\n",
              "    <tr>\n",
              "      <th>63</th>\n",
              "      <td>163202</td>\n",
              "      <td>0812550706</td>\n",
              "      <td>1</td>\n",
              "      <td>Ender's Game</td>\n",
              "      <td>Orson Scott Card</td>\n",
              "      <td>1994</td>\n",
              "      <td>Tor Books</td>\n",
              "      <td>http://images.amazon.com/images/P/0812550706.0...</td>\n",
              "      <td>0312853238</td>\n",
              "      <td>26.0</td>\n",
              "      <td>los angeles</td>\n",
              "      <td>california</td>\n",
              "      <td>usa</td>\n",
              "      <td>1</td>\n",
              "      <td>278</td>\n",
              "    </tr>\n",
              "    <tr>\n",
              "      <th>64</th>\n",
              "      <td>227520</td>\n",
              "      <td>0812550706</td>\n",
              "      <td>1</td>\n",
              "      <td>Ender's Game</td>\n",
              "      <td>Orson Scott Card</td>\n",
              "      <td>1994</td>\n",
              "      <td>Tor Books</td>\n",
              "      <td>http://images.amazon.com/images/P/0812550706.0...</td>\n",
              "      <td>0312853238</td>\n",
              "      <td>33.0</td>\n",
              "      <td>san jose</td>\n",
              "      <td>california</td>\n",
              "      <td>usa</td>\n",
              "      <td>1</td>\n",
              "      <td>278</td>\n",
              "    </tr>\n",
              "  </tbody>\n",
              "</table>\n",
              "</div>"
            ],
            "text/plain": [
              "    user_id        isbn  book_rating  ... country average_rating  n_book_ratings\n",
              "60     2313  0812533550            1  ...     usa              1             278\n",
              "61    81977  0765342294            1  ...     usa              1             278\n",
              "62   115435  0812550706            1  ...     usa              1             278\n",
              "63   163202  0812550706            1  ...     usa              1             278\n",
              "64   227520  0812550706            1  ...     usa              1             278\n",
              "\n",
              "[5 rows x 15 columns]"
            ]
          },
          "metadata": {},
          "execution_count": 49
        }
      ]
    },
    {
      "cell_type": "code",
      "metadata": {
        "id": "IkAveP3KGYWm"
      },
      "source": [
        "#main_df_implicit.to_csv( 'main_df_implicit.csv', index = False)\n",
        "#pd.read_csv(os.getcwd() + 'main_df_implicit.csv').head()"
      ],
      "execution_count": 50,
      "outputs": []
    },
    {
      "cell_type": "markdown",
      "metadata": {
        "id": "iQPFmb6MFCUz"
      },
      "source": [
        "# 3 EDA and Visualisation"
      ]
    },
    {
      "cell_type": "markdown",
      "metadata": {
        "id": "jLCSqJiqOjvo"
      },
      "source": [
        "In the web app."
      ]
    },
    {
      "cell_type": "markdown",
      "metadata": {
        "id": "IwiNqgKPacr9"
      },
      "source": [
        "# 4 Model Building"
      ]
    },
    {
      "cell_type": "markdown",
      "metadata": {
        "id": "Jew1e1tVQ1Zp"
      },
      "source": [
        "Using explicit ratings."
      ]
    },
    {
      "cell_type": "markdown",
      "metadata": {
        "id": "6zFyvtTB_Bxg"
      },
      "source": [
        "## 4.1 Nearest Neighbours"
      ]
    },
    {
      "cell_type": "markdown",
      "metadata": {
        "id": "t8jeC9n9Z0BZ"
      },
      "source": [
        "### 4.1.1 Model"
      ]
    },
    {
      "cell_type": "code",
      "metadata": {
        "id": "zfLbDyfSP70M"
      },
      "source": [
        "from scipy.sparse import csr_matrix \n",
        "from sklearn.metrics.pairwise import cosine_similarity\n",
        "from sklearn.neighbors import NearestNeighbors"
      ],
      "execution_count": 51,
      "outputs": []
    },
    {
      "cell_type": "code",
      "metadata": {
        "id": "UorwgD_Anoxo"
      },
      "source": [
        "wide_df = main_df_explicit.pivot_table(\n",
        "    columns='user_id', \n",
        "    index='isbn_unique', \n",
        "    values='book_rating'\n",
        "    )\n",
        "\n",
        "wide_df.fillna(0, inplace=True)\n",
        "\n",
        "wide_sparse = csr_matrix(wide_df)"
      ],
      "execution_count": 52,
      "outputs": []
    },
    {
      "cell_type": "code",
      "metadata": {
        "colab": {
          "base_uri": "https://localhost:8080/"
        },
        "id": "sMcMgHcIP3hc",
        "outputId": "7b6c5caa-c865-4800-ac52-af026b94dc7e"
      },
      "source": [
        "model_knn = NearestNeighbors(\n",
        "    algorithm='brute',\n",
        "    metric = 'cosine'\n",
        ")\n",
        "\n",
        "model_knn.fit(\n",
        "    wide_sparse\n",
        "    )"
      ],
      "execution_count": 53,
      "outputs": [
        {
          "output_type": "execute_result",
          "data": {
            "text/plain": [
              "NearestNeighbors(algorithm='brute', metric='cosine')"
            ]
          },
          "metadata": {},
          "execution_count": 53
        }
      ]
    },
    {
      "cell_type": "code",
      "metadata": {
        "colab": {
          "base_uri": "https://localhost:8080/"
        },
        "id": "j3TSV8d7GG5f",
        "outputId": "6ecaaeb9-8cb0-4714-f4fb-7dff4a9efdf7"
      },
      "source": [
        "print( main_df_explicit.isbn_unique.nunique() == wide_df.shape[0] )\n",
        "print( main_df_explicit.user_id.nunique() == wide_df.shape[1] )"
      ],
      "execution_count": 54,
      "outputs": [
        {
          "output_type": "stream",
          "name": "stdout",
          "text": [
            "True\n",
            "True\n"
          ]
        }
      ]
    },
    {
      "cell_type": "markdown",
      "metadata": {
        "id": "JavYKeWMZF5g"
      },
      "source": [
        "### 4.1.2 Custom Evaluation Metrics"
      ]
    },
    {
      "cell_type": "code",
      "metadata": {
        "id": "R8bkDpVxn0v4"
      },
      "source": [
        "n_rec = 5\n",
        "\n",
        "# create dictionary with every book from the df and its corresponding top5 recommendations\n",
        "hr_dict = {}\n",
        "for book_index in range(wide_df.shape[0]):\n",
        "    \n",
        "    book_isbn = wide_df.axes[0].tolist()[book_index]\n",
        "\n",
        "    _, recommendations = model_knn.kneighbors(\n",
        "        wide_df.iloc[book_index, :].values.reshape(1,-1), \n",
        "        n_neighbors = n_rec + 1\n",
        "        )\n",
        "    \n",
        "    recommendations_isbn = []\n",
        "    for rec in recommendations.flatten():\n",
        "        rec_isbn = wide_df.axes[0].tolist()[rec] \n",
        "        if rec_isbn != book_isbn:\n",
        "            recommendations_isbn.append( rec_isbn )\n",
        "\n",
        "    hr_dict.update( { book_isbn : recommendations_isbn } )"
      ],
      "execution_count": 55,
      "outputs": []
    },
    {
      "cell_type": "code",
      "metadata": {
        "id": "2rw0ny4DoCD7"
      },
      "source": [
        "# convert dict keys and values to lists\n",
        "books_list = list(hr_dict.keys())\n",
        "top_5_list = list(hr_dict.values())"
      ],
      "execution_count": 56,
      "outputs": []
    },
    {
      "cell_type": "code",
      "metadata": {
        "colab": {
          "base_uri": "https://localhost:8080/"
        },
        "id": "XnrfkM7nBkdf",
        "outputId": "1a557bbd-2b5b-4b2f-c94b-fa06b56a7206"
      },
      "source": [
        "# hit = min 1 recommended book has the same author as the input book\n",
        "hits = 0\n",
        "for index in range(len(books_list)):\n",
        "\n",
        "    sub_df_book = books_info_unique[books_info_unique['isbn_unique'] == books_list[index] ]\n",
        "    book_author = sub_df_book.iloc[0]['book_author'].lower()\n",
        "\n",
        "    sub_df_author = books_info_unique[ books_info_unique['book_author'].str.lower() == book_author ].drop_duplicates(subset=['isbn_unique'], keep = 'first')\n",
        "\n",
        "    count = 0\n",
        "    for rec_book in top_5_list[index]:\n",
        "        count += sub_df_author[sub_df_author['isbn_unique'] == rec_book].shape[0]\n",
        "\n",
        "    if count > 0:\n",
        "        hits += 1\n",
        "\n",
        "hr = hits / len(books_list)\n",
        "\n",
        "print(f'Number of hits is {hits} (hit = book from the same author recommended).')\n",
        "print(f'Hit ratio is {round(hr, 4)}.')"
      ],
      "execution_count": 57,
      "outputs": [
        {
          "output_type": "stream",
          "name": "stdout",
          "text": [
            "Number of hits is 780 (hit = book from the same author recommended).\n",
            "Hit ratio is 0.5878.\n"
          ]
        }
      ]
    },
    {
      "cell_type": "code",
      "metadata": {
        "colab": {
          "base_uri": "https://localhost:8080/"
        },
        "id": "aCJigJBujpSW",
        "outputId": "8a564a69-e0c9-4314-d172-596f5f259790"
      },
      "source": [
        "# hit = min 1 recommended book has the same author as the input book\n",
        "# hit ratio adjusted = valid only if author wrote min 2 books\n",
        "hits = 0\n",
        "author_count = 0\n",
        "for index in range(len(books_list)):\n",
        "\n",
        "    sub_df_book = books_info_unique[books_info_unique['isbn_unique'] == books_list[index] ]\n",
        "    book_author = sub_df_book.iloc[0]['book_author'].lower()\n",
        "\n",
        "    sub_df_author = books_info_unique[ books_info_unique['book_author'].str.lower() == book_author ].drop_duplicates(subset=['isbn_unique'], keep = 'first')\n",
        "    if sub_df_author.shape[0] > 1:\n",
        "        author_count += 1\n",
        "\n",
        "    count = 0\n",
        "    for rec_book in top_5_list[index]:\n",
        "        count += sub_df_author[sub_df_author['isbn_unique'] == rec_book].shape[0]\n",
        "\n",
        "    if count > 0:\n",
        "        hits += 1\n",
        "\n",
        "hr_adj = hits / author_count\n",
        "\n",
        "print(f'Number of hits is {hits} (hit = book from the same author recommended).')\n",
        "print(f'Hit ratio is {round(hr_adj, 4)}.')"
      ],
      "execution_count": 58,
      "outputs": [
        {
          "output_type": "stream",
          "name": "stdout",
          "text": [
            "Number of hits is 780 (hit = book from the same author recommended).\n",
            "Hit ratio is 0.595.\n"
          ]
        }
      ]
    },
    {
      "cell_type": "code",
      "metadata": {
        "colab": {
          "base_uri": "https://localhost:8080/"
        },
        "id": "QOVzN8jabAsR",
        "outputId": "02e7667e-2c17-43d8-90cc-1682870bee6a"
      },
      "source": [
        "# hit = min 1 recommended book was read by min 1 user that has also read the input book\n",
        "hits = 0\n",
        "for index in range(len(books_list)):\n",
        "\n",
        "    sub_df_user = main_df_explicit[main_df_explicit['isbn_unique'] == books_list[index] ]\n",
        "\n",
        "    for _, row in sub_df_user.iterrows():\n",
        "\n",
        "        sub_df = main_df_explicit[ main_df_explicit['user_id'] == row['user_id'] ]\n",
        "\n",
        "        count = 0\n",
        "        for rec_book in top_5_list[index]:\n",
        "            count += sub_df[sub_df['isbn_unique'] == rec_book].shape[0]\n",
        "                \n",
        "        if count > 0:\n",
        "            hits += 1\n",
        "            break\n",
        "\n",
        "hr = hits / len(books_list)\n",
        "\n",
        "print(f'Number of hits is {hits} (hit = min 1 recommended book was read by min 1 user that has also read the input book).')\n",
        "print(f'Hit ratio is {hr}.')"
      ],
      "execution_count": 59,
      "outputs": [
        {
          "output_type": "stream",
          "name": "stdout",
          "text": [
            "Number of hits is 1327 (hit = min 1 recommended book was read by min 1 user that has also read the input book).\n",
            "Hit ratio is 1.0.\n"
          ]
        }
      ]
    },
    {
      "cell_type": "code",
      "metadata": {
        "colab": {
          "base_uri": "https://localhost:8080/"
        },
        "id": "Q-zgePacSOtL",
        "outputId": "486dd6fb-b5c9-4392-a98b-30891f596fd8"
      },
      "source": [
        "# hit = each of the recommended book was read by the users that have also read the input book\n",
        "hits = 0\n",
        "for index in range(len(books_list)):\n",
        "\n",
        "    sub_df_user = main_df_explicit[main_df_explicit['isbn_unique'] == books_list[index] ]\n",
        "\n",
        "    count = 0\n",
        "    for rec_book in top_5_list[index]:\n",
        "\n",
        "        for _, row in sub_df_user.iterrows():\n",
        "\n",
        "            sub_df = main_df_explicit[ main_df_explicit['user_id'] == row['user_id'] ]\n",
        "\n",
        "            if sub_df[sub_df['isbn_unique'] == rec_book].shape[0] > 0:\n",
        "                count += 1\n",
        "                break\n",
        "                \n",
        "    if count == n_rec:\n",
        "        hits += 1\n",
        "\n",
        "hr = hits / len(books_list)\n",
        "\n",
        "print(f'Number of hits is {hits} (hit = each of the recommended book was read by the users that have also read the input book).')\n",
        "print(f'Hit ratio is {hr}.')"
      ],
      "execution_count": 60,
      "outputs": [
        {
          "output_type": "stream",
          "name": "stdout",
          "text": [
            "Number of hits is 1327 (hit = each of the recommended book was read by the users that have also read the input book).\n",
            "Hit ratio is 1.0.\n"
          ]
        }
      ]
    },
    {
      "cell_type": "code",
      "metadata": {
        "colab": {
          "base_uri": "https://localhost:8080/"
        },
        "id": "Nb7tTvuxekLq",
        "outputId": "96c9bf1d-6956-4fa2-d93a-ef944c68bc83"
      },
      "source": [
        "# ratio of the users, that have read the input book and also min 1 of its recommendations\n",
        "perc_hit = []\n",
        "for index in range(len(books_list)):\n",
        "\n",
        "    sub_df_user = main_df_explicit[main_df_explicit['isbn_unique'] == books_list[index] ]\n",
        "\n",
        "    count = 0\n",
        "    for _, row in sub_df_user.iterrows():\n",
        "\n",
        "        sub_df = main_df_explicit[ main_df_explicit['user_id'] == row['user_id'] ]\n",
        "\n",
        "        for rec_book in top_5_list[index]:\n",
        "\n",
        "            if sub_df[sub_df['isbn_unique'] == rec_book].shape[0] > 0:\n",
        "                count += 1\n",
        "                break\n",
        "    \n",
        "    perc_hit.append(\n",
        "        count / sub_df_user.shape[0]\n",
        "    )\n",
        "\n",
        "print(f'Ratio of the users, that have read the input book and also min 1 of its recommendations {round(np.mean(perc_hit), 4)}.')"
      ],
      "execution_count": 61,
      "outputs": [
        {
          "output_type": "stream",
          "name": "stdout",
          "text": [
            "Ratio of the users, that have read the input book and also min 1 of its recommendations 0.3305.\n"
          ]
        }
      ]
    },
    {
      "cell_type": "code",
      "metadata": {
        "colab": {
          "base_uri": "https://localhost:8080/"
        },
        "id": "0BTemtskgWQI",
        "outputId": "ed15cf23-007b-471b-fff2-e2c9983bfaa0"
      },
      "source": [
        "# sanity check\n",
        "all(i <= 1 for i in perc_hit)"
      ],
      "execution_count": 62,
      "outputs": [
        {
          "output_type": "execute_result",
          "data": {
            "text/plain": [
              "True"
            ]
          },
          "metadata": {},
          "execution_count": 62
        }
      ]
    },
    {
      "cell_type": "markdown",
      "metadata": {
        "id": "e3sIqiDrjuIC"
      },
      "source": [
        "## 4.2 TF model"
      ]
    },
    {
      "cell_type": "code",
      "metadata": {
        "id": "qbUBc0UHlOs4"
      },
      "source": [
        "import tensorflow as tf"
      ],
      "execution_count": 63,
      "outputs": []
    },
    {
      "cell_type": "code",
      "metadata": {
        "id": "cEhJUHV4lZuo"
      },
      "source": [
        "def build_MF_model(n_users, n_books, emb_size):\n",
        "\n",
        "      input_user = tf.keras.layers.Input(shape=(1,), name='input_user')\n",
        "      input_book = tf.keras.layers.Input(shape=(1,), name='input_book')\n",
        "\n",
        "      emb_user = tf.keras.layers.Embedding(\n",
        "            input_dim= n_users + 1,\n",
        "            output_dim= emb_size,\n",
        "            embeddings_initializer='uniform',\n",
        "            name='emb_user'\n",
        "          )(input_user)\n",
        "      \n",
        "      emb_book = tf.keras.layers.Embedding(\n",
        "            input_dim= n_books + 1,\n",
        "            output_dim= emb_size,\n",
        "            name= 'emb_book'\n",
        "          )(input_book)\n",
        "\n",
        "      X = tf.keras.layers.multiply([emb_user, emb_book])\n",
        "      X = tf.keras.layers.Dense(units = 1)(X)\n",
        "      \n",
        "      model = tf.keras.Model(inputs = [input_user, input_book], outputs = X)\n",
        "      model.compile(\n",
        "              optimizer =tf.keras.optimizers.Adam(lr = 0.01), \n",
        "              loss = 'mae',\n",
        "              metrics = 'mae'\n",
        "            )\n",
        "      \n",
        "      return model"
      ],
      "execution_count": 64,
      "outputs": []
    },
    {
      "cell_type": "code",
      "metadata": {
        "id": "T55v6DeloLja"
      },
      "source": [
        "n_users = len(main_df_explicit.user_id.unique())\n",
        "n_books = len(main_df_explicit.isbn_unique.unique())"
      ],
      "execution_count": 65,
      "outputs": []
    },
    {
      "cell_type": "code",
      "metadata": {
        "colab": {
          "base_uri": "https://localhost:8080/"
        },
        "id": "9qE4zaTen4ou",
        "outputId": "45d311f6-a66c-4845-c2a5-ace853980e76"
      },
      "source": [
        "mf_model = build_MF_model(n_users, n_books, 16)\n",
        "mf_model.summary()"
      ],
      "execution_count": 66,
      "outputs": [
        {
          "output_type": "stream",
          "name": "stdout",
          "text": [
            "Model: \"model\"\n",
            "__________________________________________________________________________________________________\n",
            " Layer (type)                   Output Shape         Param #     Connected to                     \n",
            "==================================================================================================\n",
            " input_user (InputLayer)        [(None, 1)]          0           []                               \n",
            "                                                                                                  \n",
            " input_book (InputLayer)        [(None, 1)]          0           []                               \n",
            "                                                                                                  \n",
            " emb_user (Embedding)           (None, 1, 16)        505424      ['input_user[0][0]']             \n",
            "                                                                                                  \n",
            " emb_book (Embedding)           (None, 1, 16)        21248       ['input_book[0][0]']             \n",
            "                                                                                                  \n",
            " multiply (Multiply)            (None, 1, 16)        0           ['emb_user[0][0]',               \n",
            "                                                                  'emb_book[0][0]']               \n",
            "                                                                                                  \n",
            " dense (Dense)                  (None, 1, 1)         17          ['multiply[0][0]']               \n",
            "                                                                                                  \n",
            "==================================================================================================\n",
            "Total params: 526,689\n",
            "Trainable params: 526,689\n",
            "Non-trainable params: 0\n",
            "__________________________________________________________________________________________________\n"
          ]
        }
      ]
    },
    {
      "cell_type": "code",
      "metadata": {
        "id": "Zzl3Uw6RqNJ8"
      },
      "source": [
        "  from sklearn.preprocessing import LabelEncoder\n",
        "\n",
        "  user_encoder = LabelEncoder()\n",
        "  book_encoder = LabelEncoder()\n",
        "\n",
        "  user_ids_encoded = user_encoder.fit_transform(main_df_explicit.user_id.values)\n",
        "  book_ids_encoded = book_encoder.fit_transform(main_df_explicit.isbn_unique.values)"
      ],
      "execution_count": 67,
      "outputs": []
    },
    {
      "cell_type": "code",
      "metadata": {
        "colab": {
          "base_uri": "https://localhost:8080/"
        },
        "id": "OwFEHULqo3Ap",
        "outputId": "1b94e091-d052-4c27-e07c-f282d61df81b"
      },
      "source": [
        "mf_model.fit(\n",
        "        x=[user_ids_encoded, book_ids_encoded],\n",
        "        y=main_df_explicit.book_rating.values,\n",
        "        validation_split=0.1,\n",
        "        #callbacks=[early_stopping],\n",
        "        epochs=5,\n",
        "        batch_size=128,\n",
        "        #verbose=1\n",
        "    )"
      ],
      "execution_count": 68,
      "outputs": [
        {
          "output_type": "stream",
          "name": "stdout",
          "text": [
            "Epoch 1/5\n",
            "681/681 [==============================] - 6s 8ms/step - loss: 4.0391 - mae: 4.0391 - val_loss: 3.1564 - val_mae: 3.1564\n",
            "Epoch 2/5\n",
            "681/681 [==============================] - 5s 7ms/step - loss: 1.5266 - mae: 1.5266 - val_loss: 2.2915 - val_mae: 2.2915\n",
            "Epoch 3/5\n",
            "681/681 [==============================] - 5s 7ms/step - loss: 1.4081 - mae: 1.4081 - val_loss: 1.9499 - val_mae: 1.9499\n",
            "Epoch 4/5\n",
            "681/681 [==============================] - 5s 7ms/step - loss: 1.3863 - mae: 1.3863 - val_loss: 1.5865 - val_mae: 1.5865\n",
            "Epoch 5/5\n",
            "681/681 [==============================] - 5s 7ms/step - loss: 1.3622 - mae: 1.3622 - val_loss: 1.4412 - val_mae: 1.4412\n"
          ]
        },
        {
          "output_type": "execute_result",
          "data": {
            "text/plain": [
              "<keras.callbacks.History at 0x7fb13d0bb690>"
            ]
          },
          "metadata": {},
          "execution_count": 68
        }
      ]
    },
    {
      "cell_type": "code",
      "metadata": {
        "colab": {
          "base_uri": "https://localhost:8080/"
        },
        "id": "ZwlL4-ZsqyQo",
        "outputId": "d465b13e-7312-452a-9f82-c82941a63ff2"
      },
      "source": [
        "mf_model.predict([user_ids_encoded, book_ids_encoded])"
      ],
      "execution_count": 69,
      "outputs": [
        {
          "output_type": "execute_result",
          "data": {
            "text/plain": [
              "array([[[8.018869 ]],\n",
              "\n",
              "       [[8.024233 ]],\n",
              "\n",
              "       [[8.03032  ]],\n",
              "\n",
              "       ...,\n",
              "\n",
              "       [[7.6810064]],\n",
              "\n",
              "       [[7.6815453]],\n",
              "\n",
              "       [[7.6822515]]], dtype=float32)"
            ]
          },
          "metadata": {},
          "execution_count": 69
        }
      ]
    },
    {
      "cell_type": "markdown",
      "metadata": {
        "id": "mi_zzjWnFHoX"
      },
      "source": [
        "# 5 Model Deployment"
      ]
    },
    {
      "cell_type": "markdown",
      "metadata": {
        "id": "1QM8n8T9E9hW"
      },
      "source": [
        "## 5.1 Fuzzy String Matching"
      ]
    },
    {
      "cell_type": "code",
      "metadata": {
        "colab": {
          "base_uri": "https://localhost:8080/"
        },
        "id": "eXO1N1R5T4mv",
        "outputId": "e602ede9-32ff-4b94-9d65-bc48557a5cce"
      },
      "source": [
        "pip install fuzzywuzzy"
      ],
      "execution_count": 70,
      "outputs": [
        {
          "output_type": "stream",
          "name": "stdout",
          "text": [
            "Collecting fuzzywuzzy\n",
            "  Downloading fuzzywuzzy-0.18.0-py2.py3-none-any.whl (18 kB)\n",
            "Installing collected packages: fuzzywuzzy\n",
            "Successfully installed fuzzywuzzy-0.18.0\n"
          ]
        }
      ]
    },
    {
      "cell_type": "code",
      "metadata": {
        "id": "FYsZzd8iM9Zc"
      },
      "source": [
        "from fuzzywuzzy import fuzz\n",
        "from PIL import Image\n",
        "import matplotlib.pyplot as plt\n",
        "import requests"
      ],
      "execution_count": 71,
      "outputs": []
    },
    {
      "cell_type": "code",
      "metadata": {
        "id": "3B2Us_7yJXQk"
      },
      "source": [
        "def book_title_matching(book_title, book_df):\n",
        "\n",
        "    book_df_unique = book_df.drop_duplicates(\n",
        "        subset = 'book_title', keep=\"first\"\n",
        "        )\n",
        "\n",
        "    best_ratio = 0\n",
        "\n",
        "    for title in book_df_unique.book_title:\n",
        "\n",
        "        ratio = fuzz.ratio(\n",
        "            title.lower(), \n",
        "            book_title.lower()\n",
        "            )\n",
        "        \n",
        "        if ratio >= best_ratio:\n",
        "            best_ratio = ratio\n",
        "            best_match = title\n",
        "\n",
        "    return [ best_match, book_df_unique.loc[book_df_unique['book_title'] == best_match, 'isbn_unique'].iloc[0] ]"
      ],
      "execution_count": 72,
      "outputs": []
    },
    {
      "cell_type": "code",
      "metadata": {
        "colab": {
          "base_uri": "https://localhost:8080/"
        },
        "id": "caS77okhKOc3",
        "outputId": "d40a3fad-6b76-48b7-9ead-a839d635b982"
      },
      "source": [
        "book_title = 'The lord of the rings'\n",
        "match = book_title_matching(book_title, main_df_explicit)\n",
        "match"
      ],
      "execution_count": 73,
      "outputs": [
        {
          "output_type": "execute_result",
          "data": {
            "text/plain": [
              "['The Lord of the Rings', '0618129022']"
            ]
          },
          "metadata": {},
          "execution_count": 73
        }
      ]
    },
    {
      "cell_type": "code",
      "metadata": {
        "id": "kpsnudwcO87s"
      },
      "source": [
        "def print_book_recommemndation(best_match, wide_df, book_df, model, n_rec):\n",
        "    \n",
        "    best_match_index = wide_df.index.tolist().index(best_match[1])\n",
        "\n",
        "    distances, recommendations = model.kneighbors(\n",
        "        wide_df.iloc[best_match_index, :].values.reshape(1,-1), \n",
        "        n_neighbors = n_rec + 1\n",
        "        )\n",
        "\n",
        "    for i in range(0, n_rec + 1):\n",
        "        if i == 0:\n",
        "            print('Recommendations for {0}:'.format(best_match[0]))\n",
        "        else:\n",
        "            print('{0}: {1}, with distance of {2}:'.format(\n",
        "                i, \n",
        "                book_df.loc[book_df['isbn_unique'] == wide_df.index[recommendations.flatten()[i]], 'book_title'].iloc[0],\n",
        "                distances.flatten()[i]\n",
        "                ))"
      ],
      "execution_count": 74,
      "outputs": []
    },
    {
      "cell_type": "code",
      "metadata": {
        "id": "m5_To4tw1xmL"
      },
      "source": [
        "def book_recommemndation_img(best_match, wide_df, book_df, model, n_rec):\n",
        "    best_match_index = wide_df.index.tolist().index(best_match[1])\n",
        "\n",
        "    distances, recommendations = model.kneighbors(\n",
        "        wide_df.iloc[best_match_index, :].values.reshape(1,-1), \n",
        "        n_neighbors = n_rec + 1\n",
        "        )\n",
        "\n",
        "    plt.figure(figsize = (20,50))\n",
        "    for i in range(2, n_rec):\n",
        "        title = book_df.loc[book_df['isbn_unique'] == wide_df.index[recommendations.flatten()[i]], 'book_title'].iloc[0]\n",
        "        distance = distances.flatten()[i]\n",
        "        url = book_df.loc[book_df['isbn_unique'] == wide_df.index[recommendations.flatten()[i]], 'Image-URL-L'].iloc[0]\n",
        "\n",
        "        plt.subplot(1, n_rec, i+1)\n",
        "        im = Image.open(requests.get(url, stream=True).raw)\n",
        "        plt.imshow(im)\n",
        "        plt.axis(\"off\")"
      ],
      "execution_count": 75,
      "outputs": []
    },
    {
      "cell_type": "markdown",
      "metadata": {
        "id": "U4YS4OA9E_6S"
      },
      "source": [
        "## 5.2 Streamlit App"
      ]
    },
    {
      "cell_type": "markdown",
      "metadata": {
        "id": "q4CGT2aypVOv"
      },
      "source": [
        "Streamlit script."
      ]
    }
  ]
}